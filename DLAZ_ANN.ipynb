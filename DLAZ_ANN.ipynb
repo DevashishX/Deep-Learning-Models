{
  "nbformat": 4,
  "nbformat_minor": 0,
  "metadata": {
    "colab": {
      "name": "DLAZ_ANN.ipynb",
      "provenance": [],
      "collapsed_sections": [],
      "authorship_tag": "ABX9TyNDA1YNzZPol2xf4oDZPT+G",
      "include_colab_link": true
    },
    "kernelspec": {
      "name": "python3",
      "display_name": "Python 3"
    },
    "accelerator": "GPU"
  },
  "cells": [
    {
      "cell_type": "markdown",
      "metadata": {
        "id": "view-in-github",
        "colab_type": "text"
      },
      "source": [
        "<a href=\"https://colab.research.google.com/github/DevashishX/Deep-Learning-Models/blob/master/DLAZ_ANN.ipynb\" target=\"_parent\"><img src=\"https://colab.research.google.com/assets/colab-badge.svg\" alt=\"Open In Colab\"/></a>"
      ]
    },
    {
      "cell_type": "markdown",
      "metadata": {
        "id": "zUV5aLi460_y",
        "colab_type": "text"
      },
      "source": [
        "# Artificial Neural Network using Keras"
      ]
    },
    {
      "cell_type": "markdown",
      "metadata": {
        "id": "ahbXMsUkZe4b",
        "colab_type": "text"
      },
      "source": [
        "always use tensorflow.keras instead of just keras\n"
      ]
    },
    {
      "cell_type": "markdown",
      "metadata": {
        "id": "p4yUtEgCQ0fS",
        "colab_type": "text"
      },
      "source": [
        "# Read the Data"
      ]
    },
    {
      "cell_type": "code",
      "metadata": {
        "id": "2rrAhnwxNKSW",
        "colab_type": "code",
        "colab": {}
      },
      "source": [
        "# Importing the libraries\n",
        "import numpy as np\n",
        "import matplotlib.pyplot as plt\n",
        "import pandas as pd\n",
        "\n",
        "# Importing the dataset\n",
        "dataset = pd.read_csv('Churn_Modelling.csv')\n",
        "X = dataset.iloc[:, 3:13].values\n",
        "y = dataset.iloc[:, 13].values"
      ],
      "execution_count": 0,
      "outputs": []
    },
    {
      "cell_type": "markdown",
      "metadata": {
        "id": "orIJj2x7Q396",
        "colab_type": "text"
      },
      "source": [
        "# Encoding Data\n"
      ]
    },
    {
      "cell_type": "code",
      "metadata": {
        "id": "FMTzpjOVQzGP",
        "colab_type": "code",
        "outputId": "f97a5388-12ed-4811-940d-39def2ab5978",
        "colab": {
          "base_uri": "https://localhost:8080/",
          "height": 139
        }
      },
      "source": [
        "# Encoding categorical data\n",
        "from sklearn.preprocessing import LabelEncoder, OneHotEncoder\n",
        "labelencoder_X_1 = LabelEncoder()\n",
        "X[:, 1] = labelencoder_X_1.fit_transform(X[:, 1])\n",
        "labelencoder_X_2 = LabelEncoder()\n",
        "X[:, 2] = labelencoder_X_2.fit_transform(X[:, 2])\n",
        "print(X, X.shape)"
      ],
      "execution_count": 0,
      "outputs": [
        {
          "output_type": "stream",
          "text": [
            "[[619 0 0 ... 1 1 101348.88]\n",
            " [608 2 0 ... 0 1 112542.58]\n",
            " [502 0 0 ... 1 0 113931.57]\n",
            " ...\n",
            " [709 0 0 ... 0 1 42085.58]\n",
            " [772 1 1 ... 1 0 92888.52]\n",
            " [792 0 0 ... 1 0 38190.78]] (10000, 10)\n"
          ],
          "name": "stdout"
        }
      ]
    },
    {
      "cell_type": "markdown",
      "metadata": {
        "id": "NmUwYFVJSefM",
        "colab_type": "text"
      },
      "source": [
        "## One hot encoder"
      ]
    },
    {
      "cell_type": "code",
      "metadata": {
        "id": "jc8EMRlQRP1x",
        "colab_type": "code",
        "outputId": "64c09a1c-d092-49ba-b81f-0dadfdecc764",
        "colab": {
          "base_uri": "https://localhost:8080/",
          "height": 139
        }
      },
      "source": [
        "from sklearn.compose import ColumnTransformer\n",
        "columnTransformer = ColumnTransformer([('encoder', OneHotEncoder(), [1])], remainder='passthrough')\n",
        "X = columnTransformer.fit_transform(X)\n",
        "print(X, X.shape)"
      ],
      "execution_count": 0,
      "outputs": [
        {
          "output_type": "stream",
          "text": [
            "[[1.0 0.0 0.0 ... 1 1 101348.88]\n",
            " [0.0 0.0 1.0 ... 0 1 112542.58]\n",
            " [1.0 0.0 0.0 ... 1 0 113931.57]\n",
            " ...\n",
            " [1.0 0.0 0.0 ... 0 1 42085.58]\n",
            " [0.0 1.0 0.0 ... 1 0 92888.52]\n",
            " [1.0 0.0 0.0 ... 1 0 38190.78]] (10000, 12)\n"
          ],
          "name": "stdout"
        }
      ]
    },
    {
      "cell_type": "markdown",
      "metadata": {
        "id": "aBOdrcoBTQzG",
        "colab_type": "text"
      },
      "source": [
        "### Dummy variable trap"
      ]
    },
    {
      "cell_type": "code",
      "metadata": {
        "id": "RK3_IInzRQbQ",
        "colab_type": "code",
        "outputId": "b8810f25-0816-4d34-c360-b6e56052b069",
        "colab": {
          "base_uri": "https://localhost:8080/",
          "height": 34
        }
      },
      "source": [
        "X = X[:, 1:]\n",
        "print(X[0], X.shape)"
      ],
      "execution_count": 0,
      "outputs": [
        {
          "output_type": "stream",
          "text": [
            "[0.0 0.0 619 0 42 2 0.0 1 1 1 101348.88] (10000, 11)\n"
          ],
          "name": "stdout"
        }
      ]
    },
    {
      "cell_type": "markdown",
      "metadata": {
        "id": "wI0v2YcVSw-O",
        "colab_type": "text"
      },
      "source": [
        "# Train Test Split\n"
      ]
    },
    {
      "cell_type": "code",
      "metadata": {
        "id": "dMJJNWrjTg0u",
        "colab_type": "code",
        "colab": {}
      },
      "source": [
        "from sklearn.model_selection import train_test_split\n",
        "X_train, X_test, y_train, y_test = train_test_split(X, y, test_size = 0.2, random_state = 0)\n"
      ],
      "execution_count": 0,
      "outputs": []
    },
    {
      "cell_type": "markdown",
      "metadata": {
        "id": "OGBPMIt7Tg6f",
        "colab_type": "text"
      },
      "source": [
        "# Feature Scaling"
      ]
    },
    {
      "cell_type": "code",
      "metadata": {
        "id": "5IHdZ2r1Tnot",
        "colab_type": "code",
        "colab": {}
      },
      "source": [
        "from sklearn.preprocessing import StandardScaler\n",
        "sc = StandardScaler()\n",
        "X_train = sc.fit_transform(X_train)\n",
        "X_test = sc.transform(X_test)"
      ],
      "execution_count": 0,
      "outputs": []
    },
    {
      "cell_type": "markdown",
      "metadata": {
        "id": "xNG1bJHsTg9X",
        "colab_type": "text"
      },
      "source": [
        "# Build ANN"
      ]
    },
    {
      "cell_type": "code",
      "metadata": {
        "id": "JWOB3hwCThBR",
        "colab_type": "code",
        "colab": {}
      },
      "source": [
        "# import tensorflow.keras \n",
        "%tensorflow_version 2.x\n",
        "\n",
        "from tensorflow.keras.models import Sequential\n",
        "from tensorflow.keras.layers import Dense\n"
      ],
      "execution_count": 0,
      "outputs": []
    },
    {
      "cell_type": "markdown",
      "metadata": {
        "id": "gwRoukK3YFev",
        "colab_type": "text"
      },
      "source": [
        "## Check if GPU is enabled for keras"
      ]
    },
    {
      "cell_type": "code",
      "metadata": {
        "id": "9e7omvAiYFLr",
        "colab_type": "code",
        "colab": {}
      },
      "source": [
        "# from tensorflow.python.client import device_lib\n",
        "# print(device_lib.list_local_devices())"
      ],
      "execution_count": 0,
      "outputs": []
    },
    {
      "cell_type": "code",
      "metadata": {
        "id": "7WG88QVRThDf",
        "colab_type": "code",
        "colab": {}
      },
      "source": [
        "classifier = Sequential()"
      ],
      "execution_count": 0,
      "outputs": []
    },
    {
      "cell_type": "code",
      "metadata": {
        "id": "zxPXO0uFThHK",
        "colab_type": "code",
        "colab": {}
      },
      "source": [
        "classifier.add(Dense(units=6, kernel_initializer=\"uniform\", activation=\"relu\", input_dim = 11))"
      ],
      "execution_count": 0,
      "outputs": []
    },
    {
      "cell_type": "code",
      "metadata": {
        "id": "xhVH74NeVshb",
        "colab_type": "code",
        "colab": {}
      },
      "source": [
        "classifier.add(Dense(units=6, kernel_initializer=\"uniform\", activation=\"relu\"))"
      ],
      "execution_count": 0,
      "outputs": []
    },
    {
      "cell_type": "code",
      "metadata": {
        "id": "qsXTt8LJVzBy",
        "colab_type": "code",
        "colab": {}
      },
      "source": [
        "classifier.add(Dense(units=1, kernel_initializer=\"uniform\", activation=\"sigmoid\"))"
      ],
      "execution_count": 0,
      "outputs": []
    },
    {
      "cell_type": "code",
      "metadata": {
        "id": "7M-yHAuSV2zk",
        "colab_type": "code",
        "outputId": "45ff9e00-8e0c-4c6a-f30b-25e5a24d5e8f",
        "colab": {
          "base_uri": "https://localhost:8080/",
          "height": 422
        }
      },
      "source": [
        "from tensorflow.keras.utils import plot_model\n",
        "plot_model(classifier, show_shapes=True, show_layer_names=True)"
      ],
      "execution_count": 0,
      "outputs": [
        {
          "output_type": "execute_result",
          "data": {
            "image/png": "[encoded data removed]",
            "text/plain": [
              "<IPython.core.display.Image object>"
            ]
          },
          "metadata": {
            "tags": []
          },
          "execution_count": 66
        }
      ]
    },
    {
      "cell_type": "markdown",
      "metadata": {
        "id": "4N-jCqV8WaDI",
        "colab_type": "text"
      },
      "source": [
        "## Compiling the model"
      ]
    },
    {
      "cell_type": "code",
      "metadata": {
        "id": "Pq_X-eXrW_q7",
        "colab_type": "code",
        "colab": {}
      },
      "source": [
        "classifier.compile(optimizer = 'adam', loss = 'binary_crossentropy', metrics = ['accuracy'])"
      ],
      "execution_count": 0,
      "outputs": []
    },
    {
      "cell_type": "markdown",
      "metadata": {
        "id": "sATqlfdDXIwp",
        "colab_type": "text"
      },
      "source": [
        "# Fitting the model"
      ]
    },
    {
      "cell_type": "code",
      "metadata": {
        "id": "89EVfti7W_yA",
        "colab_type": "code",
        "outputId": "e7fe2c7b-fe6b-416b-c5d2-90d6376f50f0",
        "colab": {
          "base_uri": "https://localhost:8080/",
          "height": 1000
        }
      },
      "source": [
        "%%time\n",
        "classifier.fit(X_train, y_train, batch_size = 10, epochs = 100)"
      ],
      "execution_count": 0,
      "outputs": [
        {
          "output_type": "stream",
          "text": [
            "Epoch 1/100\n",
            "800/800 [==============================] - 1s 2ms/step - loss: 0.4847 - accuracy: 0.7949\n",
            "Epoch 2/100\n",
            "800/800 [==============================] - 1s 2ms/step - loss: 0.4285 - accuracy: 0.7960\n",
            "Epoch 3/100\n",
            "800/800 [==============================] - 1s 2ms/step - loss: 0.4233 - accuracy: 0.7960\n",
            "Epoch 4/100\n",
            "800/800 [==============================] - 1s 2ms/step - loss: 0.4191 - accuracy: 0.8149\n",
            "Epoch 5/100\n",
            "800/800 [==============================] - 1s 2ms/step - loss: 0.4166 - accuracy: 0.8244\n",
            "Epoch 6/100\n",
            "800/800 [==============================] - 1s 2ms/step - loss: 0.4147 - accuracy: 0.8310\n",
            "Epoch 7/100\n",
            "800/800 [==============================] - 1s 2ms/step - loss: 0.4131 - accuracy: 0.8313\n",
            "Epoch 8/100\n",
            "800/800 [==============================] - 1s 2ms/step - loss: 0.4115 - accuracy: 0.8314\n",
            "Epoch 9/100\n",
            "800/800 [==============================] - 1s 2ms/step - loss: 0.4104 - accuracy: 0.8321\n",
            "Epoch 10/100\n",
            "800/800 [==============================] - 1s 2ms/step - loss: 0.4094 - accuracy: 0.8335\n",
            "Epoch 11/100\n",
            "800/800 [==============================] - 1s 2ms/step - loss: 0.4087 - accuracy: 0.8334\n",
            "Epoch 12/100\n",
            "800/800 [==============================] - 1s 2ms/step - loss: 0.4075 - accuracy: 0.8334\n",
            "Epoch 13/100\n",
            "800/800 [==============================] - 1s 2ms/step - loss: 0.4072 - accuracy: 0.8346\n",
            "Epoch 14/100\n",
            "800/800 [==============================] - 1s 2ms/step - loss: 0.4064 - accuracy: 0.8339\n",
            "Epoch 15/100\n",
            "800/800 [==============================] - 1s 2ms/step - loss: 0.4063 - accuracy: 0.8351\n",
            "Epoch 16/100\n",
            "800/800 [==============================] - 1s 2ms/step - loss: 0.4053 - accuracy: 0.8353\n",
            "Epoch 17/100\n",
            "800/800 [==============================] - 1s 2ms/step - loss: 0.4051 - accuracy: 0.8336\n",
            "Epoch 18/100\n",
            "800/800 [==============================] - 1s 2ms/step - loss: 0.4047 - accuracy: 0.8341\n",
            "Epoch 19/100\n",
            "800/800 [==============================] - 1s 2ms/step - loss: 0.4047 - accuracy: 0.8355\n",
            "Epoch 20/100\n",
            "800/800 [==============================] - 1s 2ms/step - loss: 0.4046 - accuracy: 0.8355\n",
            "Epoch 21/100\n",
            "800/800 [==============================] - 1s 2ms/step - loss: 0.4041 - accuracy: 0.8346\n",
            "Epoch 22/100\n",
            "800/800 [==============================] - 1s 2ms/step - loss: 0.4042 - accuracy: 0.8332\n",
            "Epoch 23/100\n",
            "800/800 [==============================] - 1s 2ms/step - loss: 0.4037 - accuracy: 0.8346\n",
            "Epoch 24/100\n",
            "800/800 [==============================] - 1s 2ms/step - loss: 0.4037 - accuracy: 0.8351\n",
            "Epoch 25/100\n",
            "800/800 [==============================] - 1s 2ms/step - loss: 0.4033 - accuracy: 0.8341\n",
            "Epoch 26/100\n",
            "800/800 [==============================] - 1s 2ms/step - loss: 0.4027 - accuracy: 0.8350\n",
            "Epoch 27/100\n",
            "800/800 [==============================] - 1s 2ms/step - loss: 0.4024 - accuracy: 0.8340\n",
            "Epoch 28/100\n",
            "800/800 [==============================] - 1s 2ms/step - loss: 0.4027 - accuracy: 0.8349\n",
            "Epoch 29/100\n",
            "800/800 [==============================] - 1s 2ms/step - loss: 0.4029 - accuracy: 0.8353\n",
            "Epoch 30/100\n",
            "800/800 [==============================] - 1s 2ms/step - loss: 0.4027 - accuracy: 0.8353\n",
            "Epoch 31/100\n",
            "800/800 [==============================] - 1s 2ms/step - loss: 0.4021 - accuracy: 0.8335\n",
            "Epoch 32/100\n",
            "800/800 [==============================] - 1s 2ms/step - loss: 0.4025 - accuracy: 0.8334\n",
            "Epoch 33/100\n",
            "800/800 [==============================] - 1s 2ms/step - loss: 0.4024 - accuracy: 0.8338\n",
            "Epoch 34/100\n",
            "800/800 [==============================] - 1s 2ms/step - loss: 0.4025 - accuracy: 0.8345\n",
            "Epoch 35/100\n",
            "800/800 [==============================] - 1s 2ms/step - loss: 0.4019 - accuracy: 0.8341\n",
            "Epoch 36/100\n",
            "800/800 [==============================] - 1s 2ms/step - loss: 0.4020 - accuracy: 0.8338\n",
            "Epoch 37/100\n",
            "800/800 [==============================] - 1s 2ms/step - loss: 0.4020 - accuracy: 0.8353\n",
            "Epoch 38/100\n",
            "800/800 [==============================] - 1s 2ms/step - loss: 0.4015 - accuracy: 0.8336\n",
            "Epoch 39/100\n",
            "800/800 [==============================] - 1s 2ms/step - loss: 0.4015 - accuracy: 0.8345\n",
            "Epoch 40/100\n",
            "800/800 [==============================] - 1s 2ms/step - loss: 0.4017 - accuracy: 0.8345\n",
            "Epoch 41/100\n",
            "800/800 [==============================] - 1s 2ms/step - loss: 0.4011 - accuracy: 0.8325\n",
            "Epoch 42/100\n",
            "800/800 [==============================] - 1s 2ms/step - loss: 0.4021 - accuracy: 0.8342\n",
            "Epoch 43/100\n",
            "800/800 [==============================] - 1s 2ms/step - loss: 0.4019 - accuracy: 0.8344\n",
            "Epoch 44/100\n",
            "800/800 [==============================] - 1s 2ms/step - loss: 0.4016 - accuracy: 0.8351\n",
            "Epoch 45/100\n",
            "800/800 [==============================] - 1s 2ms/step - loss: 0.4016 - accuracy: 0.8338\n",
            "Epoch 46/100\n",
            "800/800 [==============================] - 1s 2ms/step - loss: 0.4011 - accuracy: 0.8341\n",
            "Epoch 47/100\n",
            "800/800 [==============================] - 1s 2ms/step - loss: 0.4008 - accuracy: 0.8356\n",
            "Epoch 48/100\n",
            "800/800 [==============================] - 1s 2ms/step - loss: 0.4013 - accuracy: 0.8346\n",
            "Epoch 49/100\n",
            "800/800 [==============================] - 1s 2ms/step - loss: 0.4013 - accuracy: 0.8354\n",
            "Epoch 50/100\n",
            "800/800 [==============================] - 1s 2ms/step - loss: 0.4005 - accuracy: 0.8346\n",
            "Epoch 51/100\n",
            "800/800 [==============================] - 1s 2ms/step - loss: 0.4009 - accuracy: 0.8347\n",
            "Epoch 52/100\n",
            "800/800 [==============================] - 1s 2ms/step - loss: 0.4017 - accuracy: 0.8336\n",
            "Epoch 53/100\n",
            "800/800 [==============================] - 1s 2ms/step - loss: 0.4009 - accuracy: 0.8350\n",
            "Epoch 54/100\n",
            "800/800 [==============================] - 1s 2ms/step - loss: 0.4011 - accuracy: 0.8351\n",
            "Epoch 55/100\n",
            "800/800 [==============================] - 1s 2ms/step - loss: 0.4007 - accuracy: 0.8330\n",
            "Epoch 56/100\n",
            "800/800 [==============================] - 1s 2ms/step - loss: 0.4011 - accuracy: 0.8356\n",
            "Epoch 57/100\n",
            "800/800 [==============================] - 1s 2ms/step - loss: 0.4009 - accuracy: 0.8349\n",
            "Epoch 58/100\n",
            "800/800 [==============================] - 1s 2ms/step - loss: 0.4006 - accuracy: 0.8346\n",
            "Epoch 59/100\n",
            "800/800 [==============================] - 1s 2ms/step - loss: 0.4010 - accuracy: 0.8339\n",
            "Epoch 60/100\n",
            "800/800 [==============================] - 1s 2ms/step - loss: 0.4015 - accuracy: 0.8340\n",
            "Epoch 61/100\n",
            "800/800 [==============================] - 1s 2ms/step - loss: 0.4010 - accuracy: 0.8349\n",
            "Epoch 62/100\n",
            "800/800 [==============================] - 1s 2ms/step - loss: 0.4004 - accuracy: 0.8347\n",
            "Epoch 63/100\n",
            "800/800 [==============================] - 1s 2ms/step - loss: 0.4007 - accuracy: 0.8340\n",
            "Epoch 64/100\n",
            "800/800 [==============================] - 1s 2ms/step - loss: 0.4006 - accuracy: 0.8346\n",
            "Epoch 65/100\n",
            "800/800 [==============================] - 1s 2ms/step - loss: 0.4011 - accuracy: 0.8320\n",
            "Epoch 66/100\n",
            "800/800 [==============================] - 1s 2ms/step - loss: 0.4008 - accuracy: 0.8335\n",
            "Epoch 67/100\n",
            "800/800 [==============================] - 1s 2ms/step - loss: 0.4006 - accuracy: 0.8353\n",
            "Epoch 68/100\n",
            "800/800 [==============================] - 1s 2ms/step - loss: 0.4000 - accuracy: 0.8349\n",
            "Epoch 69/100\n",
            "800/800 [==============================] - 1s 2ms/step - loss: 0.4008 - accuracy: 0.8342\n",
            "Epoch 70/100\n",
            "800/800 [==============================] - 1s 2ms/step - loss: 0.4009 - accuracy: 0.8341\n",
            "Epoch 71/100\n",
            "800/800 [==============================] - 1s 2ms/step - loss: 0.4007 - accuracy: 0.8340\n",
            "Epoch 72/100\n",
            "800/800 [==============================] - 1s 2ms/step - loss: 0.4008 - accuracy: 0.8350\n",
            "Epoch 73/100\n",
            "800/800 [==============================] - 1s 2ms/step - loss: 0.4009 - accuracy: 0.8353\n",
            "Epoch 74/100\n",
            "800/800 [==============================] - 1s 2ms/step - loss: 0.4003 - accuracy: 0.8353\n",
            "Epoch 75/100\n",
            "800/800 [==============================] - 1s 2ms/step - loss: 0.4007 - accuracy: 0.8357\n",
            "Epoch 76/100\n",
            "800/800 [==============================] - 1s 2ms/step - loss: 0.4004 - accuracy: 0.8360\n",
            "Epoch 77/100\n",
            "800/800 [==============================] - 1s 2ms/step - loss: 0.4008 - accuracy: 0.8340\n",
            "Epoch 78/100\n",
            "800/800 [==============================] - 1s 2ms/step - loss: 0.4004 - accuracy: 0.8349\n",
            "Epoch 79/100\n",
            "800/800 [==============================] - 1s 2ms/step - loss: 0.4005 - accuracy: 0.8334\n",
            "Epoch 80/100\n",
            "800/800 [==============================] - 1s 2ms/step - loss: 0.4002 - accuracy: 0.8340\n",
            "Epoch 81/100\n",
            "800/800 [==============================] - 1s 2ms/step - loss: 0.4001 - accuracy: 0.8364\n",
            "Epoch 82/100\n",
            "800/800 [==============================] - 1s 2ms/step - loss: 0.4007 - accuracy: 0.8349\n",
            "Epoch 83/100\n",
            "800/800 [==============================] - 1s 2ms/step - loss: 0.4001 - accuracy: 0.8363\n",
            "Epoch 84/100\n",
            "800/800 [==============================] - 1s 2ms/step - loss: 0.4005 - accuracy: 0.8339\n",
            "Epoch 85/100\n",
            "800/800 [==============================] - 1s 2ms/step - loss: 0.4005 - accuracy: 0.8349\n",
            "Epoch 86/100\n",
            "800/800 [==============================] - 1s 2ms/step - loss: 0.4004 - accuracy: 0.8355\n",
            "Epoch 87/100\n",
            "800/800 [==============================] - 1s 2ms/step - loss: 0.4001 - accuracy: 0.8360\n",
            "Epoch 88/100\n",
            "800/800 [==============================] - 1s 2ms/step - loss: 0.4005 - accuracy: 0.8341\n",
            "Epoch 89/100\n",
            "800/800 [==============================] - 1s 2ms/step - loss: 0.4002 - accuracy: 0.8354\n",
            "Epoch 90/100\n",
            "800/800 [==============================] - 1s 2ms/step - loss: 0.4004 - accuracy: 0.8349\n",
            "Epoch 91/100\n",
            "800/800 [==============================] - 1s 2ms/step - loss: 0.4007 - accuracy: 0.8345\n",
            "Epoch 92/100\n",
            "800/800 [==============================] - 1s 2ms/step - loss: 0.4003 - accuracy: 0.8349\n",
            "Epoch 93/100\n",
            "800/800 [==============================] - 1s 2ms/step - loss: 0.4003 - accuracy: 0.8350\n",
            "Epoch 94/100\n",
            "800/800 [==============================] - 1s 2ms/step - loss: 0.4001 - accuracy: 0.8342\n",
            "Epoch 95/100\n",
            "800/800 [==============================] - 1s 2ms/step - loss: 0.4003 - accuracy: 0.8344\n",
            "Epoch 96/100\n",
            "800/800 [==============================] - 1s 2ms/step - loss: 0.4006 - accuracy: 0.8359\n",
            "Epoch 97/100\n",
            "800/800 [==============================] - 1s 2ms/step - loss: 0.4003 - accuracy: 0.8345\n",
            "Epoch 98/100\n",
            "800/800 [==============================] - 1s 2ms/step - loss: 0.4001 - accuracy: 0.8335\n",
            "Epoch 99/100\n",
            "800/800 [==============================] - 1s 2ms/step - loss: 0.4001 - accuracy: 0.8347\n",
            "Epoch 100/100\n",
            "800/800 [==============================] - 1s 2ms/step - loss: 0.4001 - accuracy: 0.8350\n",
            "CPU times: user 2min 33s, sys: 15.3 s, total: 2min 49s\n",
            "Wall time: 2min 20s\n"
          ],
          "name": "stdout"
        },
        {
          "output_type": "execute_result",
          "data": {
            "text/plain": [
              "<tensorflow.python.keras.callbacks.History at 0x7ff5a9bff0f0>"
            ]
          },
          "metadata": {
            "tags": []
          },
          "execution_count": 63
        }
      ]
    },
    {
      "cell_type": "code",
      "metadata": {
        "id": "oELNTJh-W_31",
        "colab_type": "code",
        "colab": {}
      },
      "source": [
        "# using keras\n",
        "# CPU times: user 4min 2s, sys: 22.2 s, total: 4min 24s\n",
        "# Wall time: 3min 24s\n",
        "\n",
        "# <keras.callbacks.callbacks.History at 0x7ff5a9de3358>"
      ],
      "execution_count": 0,
      "outputs": []
    },
    {
      "cell_type": "code",
      "metadata": {
        "id": "wugmwfItW_9e",
        "colab_type": "code",
        "colab": {}
      },
      "source": [
        "# using tensorflow.keras\n",
        "# CPU times: user 2min 33s, sys: 15.3 s, total: 2min 49s\n",
        "# Wall time: 2min 20s\n",
        "\n",
        "# <tensorflow.python.keras.callbacks.History at 0x7ff5a9bff0f0>"
      ],
      "execution_count": 0,
      "outputs": []
    },
    {
      "cell_type": "markdown",
      "metadata": {
        "id": "Xi67_I0bibiY",
        "colab_type": "text"
      },
      "source": [
        "# Predict "
      ]
    },
    {
      "cell_type": "code",
      "metadata": {
        "id": "zn-cHQ6yibfj",
        "colab_type": "code",
        "colab": {}
      },
      "source": [
        "y_pred = classifier.predict(X_test)\n",
        "y_pred = (y_pred > 0.5)"
      ],
      "execution_count": 0,
      "outputs": []
    },
    {
      "cell_type": "markdown",
      "metadata": {
        "id": "Lu5H_FE5iiB4",
        "colab_type": "text"
      },
      "source": [
        "### Confusion Matrix"
      ]
    },
    {
      "cell_type": "code",
      "metadata": {
        "id": "jysqbtJJibbb",
        "colab_type": "code",
        "outputId": "458eaec5-606b-4736-c590-bc97e7ef614e",
        "colab": {
          "base_uri": "https://localhost:8080/",
          "height": 104
        }
      },
      "source": [
        "from sklearn.metrics import confusion_matrix, accuracy_score\n",
        "cm = confusion_matrix(y_test, y_pred)\n",
        "print(\"Confusion Matrix \", cm, sep=\"\\n\")\n",
        "\n",
        "acc = accuracy_score(y_test, y_pred)\n",
        "print(\"Accuracy Score \", acc, sep=\"\\n\")"
      ],
      "execution_count": 0,
      "outputs": [
        {
          "output_type": "stream",
          "text": [
            "Confusion Matrix \n",
            "[[1548   47]\n",
            " [ 270  135]]\n",
            "Accuracy Score \n",
            "0.8415\n"
          ],
          "name": "stdout"
        }
      ]
    },
    {
      "cell_type": "markdown",
      "metadata": {
        "id": "cAtjH5FNibX5",
        "colab_type": "text"
      },
      "source": [
        "# Cross Validation"
      ]
    },
    {
      "cell_type": "code",
      "metadata": {
        "id": "taPFTEFwibUL",
        "colab_type": "code",
        "colab": {}
      },
      "source": [
        "from tensorflow.keras.wrappers.scikit_learn import KerasClassifier\n",
        "from sklearn.model_selection import cross_val_score\n",
        "from tensorflow.keras.models import Sequential\n",
        "from tensorflow.keras.layers import Dense"
      ],
      "execution_count": 0,
      "outputs": []
    },
    {
      "cell_type": "code",
      "metadata": {
        "id": "n0wbeG5WXACk",
        "colab_type": "code",
        "colab": {}
      },
      "source": [
        "def build_classifier():\n",
        "    classifier = Sequential()\n",
        "    classifier.add(Dense(units=6, kernel_initializer=\"uniform\", activation=\"relu\", input_dim = 11))\n",
        "    classifier.add(Dense(units=6, kernel_initializer=\"uniform\", activation=\"relu\"))\n",
        "    classifier.add(Dense(units=1, kernel_initializer=\"uniform\", activation=\"sigmoid\"))\n",
        "    classifier.compile(optimizer = 'adam', loss = 'binary_crossentropy', metrics = ['accuracy'])\n",
        "    return classifier"
      ],
      "execution_count": 0,
      "outputs": []
    },
    {
      "cell_type": "code",
      "metadata": {
        "id": "GFJRnsoLXAG9",
        "colab_type": "code",
        "colab": {}
      },
      "source": [
        "classifier = KerasClassifier(build_fn=build_classifier, batch_size = 10, epochs=100)"
      ],
      "execution_count": 0,
      "outputs": []
    },
    {
      "cell_type": "code",
      "metadata": {
        "id": "MMo0Q_qN1XXP",
        "colab_type": "code",
        "outputId": "64d2ae4f-86e3-4251-df1c-852983e7e55a",
        "colab": {
          "base_uri": "https://localhost:8080/",
          "height": 72
        }
      },
      "source": [
        "accuracies = cross_val_score(classifier, X_train, y_train, cv=10, n_jobs=-1)"
      ],
      "execution_count": 0,
      "outputs": [
        {
          "output_type": "stream",
          "text": [
            "/usr/local/lib/python3.6/dist-packages/joblib/externals/loky/process_executor.py:706: UserWarning: A worker stopped while some jobs were given to the executor. This can be caused by a too short worker timeout or by a memory leak.\n",
            "  \"timeout or by a memory leak.\", UserWarning\n"
          ],
          "name": "stderr"
        }
      ]
    },
    {
      "cell_type": "code",
      "metadata": {
        "id": "SVraQGOq1XRT",
        "colab_type": "code",
        "outputId": "c127f291-a03b-49e7-bd20-a75191242a66",
        "colab": {
          "base_uri": "https://localhost:8080/",
          "height": 34
        }
      },
      "source": [
        "mean = accuracies.mean()\n",
        "variance = accuracies.std()\n",
        "print(\"Mean: \", mean, \" Variance: \", variance)"
      ],
      "execution_count": 0,
      "outputs": [
        {
          "output_type": "stream",
          "text": [
            "Mean:  0.8383750021457672  Variance:  0.011167048261253839\n"
          ],
          "name": "stdout"
        }
      ]
    },
    {
      "cell_type": "code",
      "metadata": {
        "id": "VbXSVl0s1XLC",
        "colab_type": "code",
        "outputId": "09147bf5-fa99-49e9-aa79-abb7f0c698d9",
        "colab": {
          "base_uri": "https://localhost:8080/",
          "height": 34
        }
      },
      "source": [
        "max(accuracies)"
      ],
      "execution_count": 0,
      "outputs": [
        {
          "output_type": "execute_result",
          "data": {
            "text/plain": [
              "0.8587499856948853"
            ]
          },
          "metadata": {
            "tags": []
          },
          "execution_count": 99
        }
      ]
    },
    {
      "cell_type": "markdown",
      "metadata": {
        "id": "XTsLPwdx3pJL",
        "colab_type": "text"
      },
      "source": [
        "# Tuning"
      ]
    },
    {
      "cell_type": "code",
      "metadata": {
        "id": "7ranyYte1XDZ",
        "colab_type": "code",
        "colab": {}
      },
      "source": [
        "from tensorflow.keras.wrappers.scikit_learn import KerasClassifier\n",
        "from sklearn.model_selection import GridSearchCV\n",
        "from tensorflow.keras.models import Sequential\n",
        "from tensorflow.keras.layers import Dense, Dropout\n",
        "import tensorflow as tf"
      ],
      "execution_count": 0,
      "outputs": []
    },
    {
      "cell_type": "code",
      "metadata": {
        "id": "2DhEfhJx1W8F",
        "colab_type": "code",
        "colab": {}
      },
      "source": [
        "def build_classifier(optimizer):\n",
        "    classifier = Sequential()\n",
        "    classifier.add(Dense(units = 8, kernel_initializer = 'uniform', activation = 'relu', input_dim = 11))\n",
        "    classifier.add(Dropout(rate = 0.1))\n",
        "    classifier.add(Dense(units = 6, kernel_initializer = 'uniform', activation = 'relu'))\n",
        "    classifier.add(Dropout(rate = 0.1))\n",
        "    classifier.add(Dense(units = 1, kernel_initializer = 'uniform', activation = 'sigmoid'))\n",
        "    classifier.compile(optimizer = optimizer, loss = 'binary_crossentropy', metrics = ['accuracy'])\n",
        "    return classifier\n"
      ],
      "execution_count": 0,
      "outputs": []
    },
    {
      "cell_type": "code",
      "metadata": {
        "id": "3FIRMe8I8Fw1",
        "colab_type": "code",
        "colab": {}
      },
      "source": [
        "classifier = KerasClassifier(build_fn = build_classifier)\n",
        "parameters = {'batch_size': [10, 25, 50],\n",
        "              'epochs': [100, 500, 50],\n",
        "              'optimizer': ['adam', 'rmsprop']}\n"
      ],
      "execution_count": 0,
      "outputs": []
    },
    {
      "cell_type": "code",
      "metadata": {
        "id": "biNr6Yvg8IME",
        "colab_type": "code",
        "colab": {}
      },
      "source": [
        "grid_search = GridSearchCV(estimator = classifier,\n",
        "                           param_grid = parameters,\n",
        "                           scoring = 'accuracy',\n",
        "                           cv = 2,\n",
        "                           n_jobs=-1)"
      ],
      "execution_count": 0,
      "outputs": []
    },
    {
      "cell_type": "code",
      "metadata": {
        "id": "GMwfxm0O1VWk",
        "colab_type": "code",
        "colab": {}
      },
      "source": [
        "with tf.device('/device:GPU:0'):\n",
        "    grid_search = grid_search.fit(X_train, y_train)\n",
        "    best_parameters = grid_search.best_params_\n",
        "    best_accuracy = grid_search.best_score_"
      ],
      "execution_count": 0,
      "outputs": []
    },
    {
      "cell_type": "code",
      "metadata": {
        "id": "Jmjgo2zM1VSq",
        "colab_type": "code",
        "colab": {}
      },
      "source": [
        "print(\"Best Params: {} Best accuracy: {}\".format(best_parameters, best_accuracy))"
      ],
      "execution_count": 0,
      "outputs": []
    },
    {
      "cell_type": "code",
      "metadata": {
        "id": "9F6RlfNQ1VPT",
        "colab_type": "code",
        "colab": {}
      },
      "source": [
        "import tensorflow as tf\n",
        "device_name = tf.test.gpu_device_name()\n",
        "if device_name != '/device:GPU:0':\n",
        "  raise SystemError('GPU device not found')\n",
        "print('Found GPU at: {}'.format(device_name))"
      ],
      "execution_count": 0,
      "outputs": []
    },
    {
      "cell_type": "code",
      "metadata": {
        "id": "3OWrwPO50mKi",
        "colab_type": "code",
        "colab": {}
      },
      "source": [
        ""
      ],
      "execution_count": 0,
      "outputs": []
    }
  ]
}