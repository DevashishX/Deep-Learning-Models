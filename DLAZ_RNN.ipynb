{
  "nbformat": 4,
  "nbformat_minor": 0,
  "metadata": {
    "colab": {
      "name": "DLAZ_RNN.ipynb",
      "provenance": [],
      "collapsed_sections": [],
      "toc_visible": true,
      "authorship_tag": "ABX9TyOoZd8ULqHJnQhJxN4nC3A/",
      "include_colab_link": true
    },
    "kernelspec": {
      "name": "python3",
      "display_name": "Python 3"
    },
    "accelerator": "GPU"
  },
  "cells": [
    {
      "cell_type": "markdown",
      "metadata": {
        "id": "view-in-github",
        "colab_type": "text"
      },
      "source": [
        "<a href=\"https://colab.research.google.com/github/DevashishX/Deep-Learning-Models/blob/master/DLAZ_RNN.ipynb\" target=\"_parent\"><img src=\"https://colab.research.google.com/assets/colab-badge.svg\" alt=\"Open In Colab\"/></a>"
      ]
    },
    {
      "cell_type": "markdown",
      "metadata": {
        "id": "xNh4ZS7zYP8p",
        "colab_type": "text"
      },
      "source": [
        "# Recurrent LSTM Neural Networks from Deep Learning A-Z on Udemy"
      ]
    },
    {
      "cell_type": "markdown",
      "metadata": {
        "id": "6iShm84ndQDl",
        "colab_type": "text"
      },
      "source": [
        "We try to predict the future stock price of google using LSTM RNN. We use data of previous 5 years to predict the google stock price for month of January 2017."
      ]
    },
    {
      "cell_type": "markdown",
      "metadata": {
        "id": "8GYXR9VdWOHg",
        "colab_type": "text"
      },
      "source": [
        "# Getting the Dataset"
      ]
    },
    {
      "cell_type": "code",
      "metadata": {
        "id": "cXDbLwAGV7Gb",
        "colab_type": "code",
        "colab": {
          "base_uri": "https://localhost:8080/",
          "height": 228
        },
        "outputId": "d71ed6ce-913a-4853-c51c-8b3831678ba5"
      },
      "source": [
        "!wget https://sds-platform-private.s3-us-east-2.amazonaws.com/uploads/P16-Recurrent-Neural-Networks.zip\n",
        "!unzip -q P16-Recurrent-Neural-Networks.zip\n",
        "!mv Recurrent_Neural_Networks/* ."
      ],
      "execution_count": 3,
      "outputs": [
        {
          "output_type": "stream",
          "text": [
            "--2020-05-07 16:21:49--  https://sds-platform-private.s3-us-east-2.amazonaws.com/uploads/P16-Recurrent-Neural-Networks.zip\n",
            "Resolving sds-platform-private.s3-us-east-2.amazonaws.com (sds-platform-private.s3-us-east-2.amazonaws.com)... 52.219.84.8\n",
            "Connecting to sds-platform-private.s3-us-east-2.amazonaws.com (sds-platform-private.s3-us-east-2.amazonaws.com)|52.219.84.8|:443... connected.\n",
            "HTTP request sent, awaiting response... 200 OK\n",
            "Length: 24237 (24K) [application/zip]\n",
            "Saving to: ‘P16-Recurrent-Neural-Networks.zip’\n",
            "\n",
            "\r          P16-Recur   0%[                    ]       0  --.-KB/s               \rP16-Recurrent-Neura 100%[===================>]  23.67K   129KB/s    in 0.2s    \n",
            "\n",
            "2020-05-07 16:21:50 (129 KB/s) - ‘P16-Recurrent-Neural-Networks.zip’ saved [24237/24237]\n",
            "\n"
          ],
          "name": "stdout"
        }
      ]
    },
    {
      "cell_type": "markdown",
      "metadata": {
        "id": "WI5Svy0oZkxl",
        "colab_type": "text"
      },
      "source": [
        "# Data Preprocessing\n",
        "we are reading the data from csv files into pandas dataframes, and converting them to numpy arrays. The final dimentions of numpy array will be (n of records aka dates, n of relevant records for set timespan, n of features aka opening date; closing date; volume traded etc)"
      ]
    },
    {
      "cell_type": "code",
      "metadata": {
        "id": "cKGxagO1YPvi",
        "colab_type": "code",
        "colab": {}
      },
      "source": [
        "import numpy as np\n",
        "import matplotlib.pyplot as plt\n",
        "import pandas as pd"
      ],
      "execution_count": 0,
      "outputs": []
    },
    {
      "cell_type": "code",
      "metadata": {
        "id": "GUIwbmIQaxuD",
        "colab_type": "code",
        "colab": {}
      },
      "source": [
        "dataset_train = pd.read_csv('Google_Stock_Price_Train.csv')\n",
        "training_set = dataset_train.iloc[:, 1:2].values"
      ],
      "execution_count": 0,
      "outputs": []
    },
    {
      "cell_type": "markdown",
      "metadata": {
        "id": "qvOQtc51a2t2",
        "colab_type": "text"
      },
      "source": [
        "Data pre proc using standard scaler"
      ]
    },
    {
      "cell_type": "code",
      "metadata": {
        "id": "XwtL4FDtax5I",
        "colab_type": "code",
        "colab": {}
      },
      "source": [
        "from sklearn.preprocessing import MinMaxScaler\n",
        "sc = MinMaxScaler(feature_range = (0, 1))\n",
        "training_set_scaled = sc.fit_transform(training_set)"
      ],
      "execution_count": 0,
      "outputs": []
    },
    {
      "cell_type": "markdown",
      "metadata": {
        "id": "v4rbgPXpbHtR",
        "colab_type": "text"
      },
      "source": [
        "we use prices of last 60 days for training / predicting stock price of one day in RNN"
      ]
    },
    {
      "cell_type": "code",
      "metadata": {
        "id": "rHgHld_ejNXh",
        "colab_type": "code",
        "colab": {}
      },
      "source": [
        "prev_days = 120 #originally 60"
      ],
      "execution_count": 0,
      "outputs": []
    },
    {
      "cell_type": "code",
      "metadata": {
        "id": "zIAEZGniax-K",
        "colab_type": "code",
        "colab": {}
      },
      "source": [
        "# Creating a data structure with 60 timesteps and 1 output\n",
        "X_train = []\n",
        "y_train = []\n",
        "for i in range(prev_days, 1258):\n",
        "    X_train.append(training_set_scaled[i-prev_days:i, 0])\n",
        "    y_train.append(training_set_scaled[i, 0])\n",
        "X_train, y_train = np.array(X_train), np.array(y_train)\n",
        "\n",
        "# Reshaping\n",
        "X_train = np.reshape(X_train, (X_train.shape[0], X_train.shape[1], 1))"
      ],
      "execution_count": 0,
      "outputs": []
    },
    {
      "cell_type": "markdown",
      "metadata": {
        "id": "7z0Iqmdzbgpc",
        "colab_type": "text"
      },
      "source": [
        "# Building the LSTM RNN"
      ]
    },
    {
      "cell_type": "code",
      "metadata": {
        "id": "ayhFaF-4ayDJ",
        "colab_type": "code",
        "colab": {
          "base_uri": "https://localhost:8080/",
          "height": 34
        },
        "outputId": "f844dc2e-cb80-43f7-f034-671fc8535c4f"
      },
      "source": [
        "%tensorflow_version 2.x\n",
        "import tensorflow\n",
        "print(tensorflow.__version__)\n",
        "\n",
        "from tensorflow.keras.models import Sequential\n",
        "from tensorflow.keras.layers import Dense\n",
        "from tensorflow.keras.layers import LSTM\n",
        "from tensorflow.keras.layers import Dropout"
      ],
      "execution_count": 9,
      "outputs": [
        {
          "output_type": "stream",
          "text": [
            "2.2.0-rc4\n"
          ],
          "name": "stdout"
        }
      ]
    },
    {
      "cell_type": "code",
      "metadata": {
        "id": "OuvnRQx2ayWk",
        "colab_type": "code",
        "colab": {}
      },
      "source": [
        "# Initialising the RNN\n",
        "regressor = Sequential()\n",
        "\n",
        "# Adding the first LSTM layer and some Dropout regularisation\n",
        "regressor.add(LSTM(units = 50, return_sequences = True, input_shape = (X_train.shape[1], 1)))\n",
        "regressor.add(Dropout(0.2))\n",
        "\n",
        "# Adding a second LSTM layer and some Dropout regularisation\n",
        "regressor.add(LSTM(units = 50, return_sequences = True))\n",
        "regressor.add(Dropout(0.2))\n",
        "\n",
        "# Adding a third LSTM layer and some Dropout regularisation\n",
        "regressor.add(LSTM(units = 50, return_sequences = True))\n",
        "regressor.add(Dropout(0.2))\n",
        "\n",
        "# Adding a fourth LSTM layer and some Dropout regularisation\n",
        "regressor.add(LSTM(units = 50))\n",
        "regressor.add(Dropout(0.2))\n",
        "\n",
        "# Adding the output layer\n",
        "regressor.add(Dense(units = 1))\n",
        "\n",
        "# Compiling the RNN\n",
        "regressor.compile(optimizer = 'adam', loss = 'mean_squared_error')"
      ],
      "execution_count": 0,
      "outputs": []
    },
    {
      "cell_type": "code",
      "metadata": {
        "id": "irkr8RF38enC",
        "colab_type": "code",
        "colab": {
          "base_uri": "https://localhost:8080/",
          "height": 1000
        },
        "outputId": "124124f5-18c6-4c77-b477-374dbc25d035"
      },
      "source": [
        "from tensorflow.keras.utils import plot_model\n",
        "plot_model(regressor, show_shapes=True, show_layer_names=True)"
      ],
      "execution_count": 12,
      "outputs": [
        {
          "output_type": "execute_result",
          "data": {
            "image/png": "[encoded data removed]",
            "text/plain": [
              "<IPython.core.display.Image object>"
            ]
          },
          "metadata": {
            "tags": []
          },
          "execution_count": 12
        }
      ]
    },
    {
      "cell_type": "markdown",
      "metadata": {
        "id": "fhDpuPjsb1WG",
        "colab_type": "text"
      },
      "source": [
        "# Fitting the RNN to the Training set"
      ]
    },
    {
      "cell_type": "code",
      "metadata": {
        "id": "L3YiJIZSbw36",
        "colab_type": "code",
        "colab": {
          "base_uri": "https://localhost:8080/",
          "height": 1000
        },
        "outputId": "bbb2516e-161d-4b43-f0a7-44b4784743eb"
      },
      "source": [
        "%%time\n",
        "history = regressor.fit(X_train, y_train, epochs = 250, batch_size = 64)"
      ],
      "execution_count": 34,
      "outputs": [
        {
          "output_type": "stream",
          "text": [
            "Epoch 1/250\n",
            "18/18 [==============================] - 0s 23ms/step - loss: 0.0826\n",
            "Epoch 2/250\n",
            "18/18 [==============================] - 0s 22ms/step - loss: 0.0123\n",
            "Epoch 3/250\n",
            "18/18 [==============================] - 0s 22ms/step - loss: 0.0065\n",
            "Epoch 4/250\n",
            "18/18 [==============================] - 0s 21ms/step - loss: 0.0054\n",
            "Epoch 5/250\n",
            "18/18 [==============================] - 0s 22ms/step - loss: 0.0057\n",
            "Epoch 6/250\n",
            "18/18 [==============================] - 0s 22ms/step - loss: 0.0055\n",
            "Epoch 7/250\n",
            "18/18 [==============================] - 0s 22ms/step - loss: 0.0049\n",
            "Epoch 8/250\n",
            "18/18 [==============================] - 0s 21ms/step - loss: 0.0050\n",
            "Epoch 9/250\n",
            "18/18 [==============================] - 0s 21ms/step - loss: 0.0055\n",
            "Epoch 10/250\n",
            "18/18 [==============================] - 0s 21ms/step - loss: 0.0052\n",
            "Epoch 11/250\n",
            "18/18 [==============================] - 0s 21ms/step - loss: 0.0051\n",
            "Epoch 12/250\n",
            "18/18 [==============================] - 0s 21ms/step - loss: 0.0051\n",
            "Epoch 13/250\n",
            "18/18 [==============================] - 0s 22ms/step - loss: 0.0045\n",
            "Epoch 14/250\n",
            "18/18 [==============================] - 0s 21ms/step - loss: 0.0042\n",
            "Epoch 15/250\n",
            "18/18 [==============================] - 0s 21ms/step - loss: 0.0041\n",
            "Epoch 16/250\n",
            "18/18 [==============================] - 0s 22ms/step - loss: 0.0043\n",
            "Epoch 17/250\n",
            "18/18 [==============================] - 0s 22ms/step - loss: 0.0042\n",
            "Epoch 18/250\n",
            "18/18 [==============================] - 0s 21ms/step - loss: 0.0043\n",
            "Epoch 19/250\n",
            "18/18 [==============================] - 0s 22ms/step - loss: 0.0044\n",
            "Epoch 20/250\n",
            "18/18 [==============================] - 0s 22ms/step - loss: 0.0040\n",
            "Epoch 21/250\n",
            "18/18 [==============================] - 0s 21ms/step - loss: 0.0046\n",
            "Epoch 22/250\n",
            "18/18 [==============================] - 0s 22ms/step - loss: 0.0039\n",
            "Epoch 23/250\n",
            "18/18 [==============================] - 0s 21ms/step - loss: 0.0042\n",
            "Epoch 24/250\n",
            "18/18 [==============================] - 0s 22ms/step - loss: 0.0041\n",
            "Epoch 25/250\n",
            "18/18 [==============================] - 0s 21ms/step - loss: 0.0041\n",
            "Epoch 26/250\n",
            "18/18 [==============================] - 0s 21ms/step - loss: 0.0041\n",
            "Epoch 27/250\n",
            "18/18 [==============================] - 0s 21ms/step - loss: 0.0044\n",
            "Epoch 28/250\n",
            "18/18 [==============================] - 0s 21ms/step - loss: 0.0040\n",
            "Epoch 29/250\n",
            "18/18 [==============================] - 0s 21ms/step - loss: 0.0037\n",
            "Epoch 30/250\n",
            "18/18 [==============================] - 0s 21ms/step - loss: 0.0047\n",
            "Epoch 31/250\n",
            "18/18 [==============================] - 0s 21ms/step - loss: 0.0045\n",
            "Epoch 32/250\n",
            "18/18 [==============================] - 0s 21ms/step - loss: 0.0044\n",
            "Epoch 33/250\n",
            "18/18 [==============================] - 0s 21ms/step - loss: 0.0042\n",
            "Epoch 34/250\n",
            "18/18 [==============================] - 0s 21ms/step - loss: 0.0035\n",
            "Epoch 35/250\n",
            "18/18 [==============================] - 0s 21ms/step - loss: 0.0032\n",
            "Epoch 36/250\n",
            "18/18 [==============================] - 0s 21ms/step - loss: 0.0035\n",
            "Epoch 37/250\n",
            "18/18 [==============================] - 0s 21ms/step - loss: 0.0034\n",
            "Epoch 38/250\n",
            "18/18 [==============================] - 0s 21ms/step - loss: 0.0038\n",
            "Epoch 39/250\n",
            "18/18 [==============================] - 0s 21ms/step - loss: 0.0032\n",
            "Epoch 40/250\n",
            "18/18 [==============================] - 0s 21ms/step - loss: 0.0036\n",
            "Epoch 41/250\n",
            "18/18 [==============================] - 0s 21ms/step - loss: 0.0037\n",
            "Epoch 42/250\n",
            "18/18 [==============================] - 0s 21ms/step - loss: 0.0035\n",
            "Epoch 43/250\n",
            "18/18 [==============================] - 0s 21ms/step - loss: 0.0032\n",
            "Epoch 44/250\n",
            "18/18 [==============================] - 0s 21ms/step - loss: 0.0032\n",
            "Epoch 45/250\n",
            "18/18 [==============================] - 0s 21ms/step - loss: 0.0035\n",
            "Epoch 46/250\n",
            "18/18 [==============================] - 0s 21ms/step - loss: 0.0032\n",
            "Epoch 47/250\n",
            "18/18 [==============================] - 0s 21ms/step - loss: 0.0032\n",
            "Epoch 48/250\n",
            "18/18 [==============================] - 0s 21ms/step - loss: 0.0032\n",
            "Epoch 49/250\n",
            "18/18 [==============================] - 0s 21ms/step - loss: 0.0034\n",
            "Epoch 50/250\n",
            "18/18 [==============================] - 0s 21ms/step - loss: 0.0031\n",
            "Epoch 51/250\n",
            "18/18 [==============================] - 0s 21ms/step - loss: 0.0032\n",
            "Epoch 52/250\n",
            "18/18 [==============================] - 0s 21ms/step - loss: 0.0028\n",
            "Epoch 53/250\n",
            "18/18 [==============================] - 0s 21ms/step - loss: 0.0032\n",
            "Epoch 54/250\n",
            "18/18 [==============================] - 0s 21ms/step - loss: 0.0030\n",
            "Epoch 55/250\n",
            "18/18 [==============================] - 0s 21ms/step - loss: 0.0030\n",
            "Epoch 56/250\n",
            "18/18 [==============================] - 0s 21ms/step - loss: 0.0031\n",
            "Epoch 57/250\n",
            "18/18 [==============================] - 0s 21ms/step - loss: 0.0031\n",
            "Epoch 58/250\n",
            "18/18 [==============================] - 0s 21ms/step - loss: 0.0030\n",
            "Epoch 59/250\n",
            "18/18 [==============================] - 0s 21ms/step - loss: 0.0032\n",
            "Epoch 60/250\n",
            "18/18 [==============================] - 0s 21ms/step - loss: 0.0030\n",
            "Epoch 61/250\n",
            "18/18 [==============================] - 0s 21ms/step - loss: 0.0031\n",
            "Epoch 62/250\n",
            "18/18 [==============================] - 0s 22ms/step - loss: 0.0027\n",
            "Epoch 63/250\n",
            "18/18 [==============================] - 0s 21ms/step - loss: 0.0030\n",
            "Epoch 64/250\n",
            "18/18 [==============================] - 0s 21ms/step - loss: 0.0030\n",
            "Epoch 65/250\n",
            "18/18 [==============================] - 0s 21ms/step - loss: 0.0028\n",
            "Epoch 66/250\n",
            "18/18 [==============================] - 0s 21ms/step - loss: 0.0029\n",
            "Epoch 67/250\n",
            "18/18 [==============================] - 0s 21ms/step - loss: 0.0028\n",
            "Epoch 68/250\n",
            "18/18 [==============================] - 0s 21ms/step - loss: 0.0031\n",
            "Epoch 69/250\n",
            "18/18 [==============================] - 0s 21ms/step - loss: 0.0026\n",
            "Epoch 70/250\n",
            "18/18 [==============================] - 0s 22ms/step - loss: 0.0028\n",
            "Epoch 71/250\n",
            "18/18 [==============================] - 0s 21ms/step - loss: 0.0029\n",
            "Epoch 72/250\n",
            "18/18 [==============================] - 0s 21ms/step - loss: 0.0028\n",
            "Epoch 73/250\n",
            "18/18 [==============================] - 0s 21ms/step - loss: 0.0029\n",
            "Epoch 74/250\n",
            "18/18 [==============================] - 0s 21ms/step - loss: 0.0027\n",
            "Epoch 75/250\n",
            "18/18 [==============================] - 0s 21ms/step - loss: 0.0028\n",
            "Epoch 76/250\n",
            "18/18 [==============================] - 0s 21ms/step - loss: 0.0028\n",
            "Epoch 77/250\n",
            "18/18 [==============================] - 0s 21ms/step - loss: 0.0030\n",
            "Epoch 78/250\n",
            "18/18 [==============================] - 0s 21ms/step - loss: 0.0025\n",
            "Epoch 79/250\n",
            "18/18 [==============================] - 0s 21ms/step - loss: 0.0026\n",
            "Epoch 80/250\n",
            "18/18 [==============================] - 0s 21ms/step - loss: 0.0027\n",
            "Epoch 81/250\n",
            "18/18 [==============================] - 0s 21ms/step - loss: 0.0027\n",
            "Epoch 82/250\n",
            "18/18 [==============================] - 0s 21ms/step - loss: 0.0032\n",
            "Epoch 83/250\n",
            "18/18 [==============================] - 0s 21ms/step - loss: 0.0028\n",
            "Epoch 84/250\n",
            "18/18 [==============================] - 0s 21ms/step - loss: 0.0024\n",
            "Epoch 85/250\n",
            "18/18 [==============================] - 0s 21ms/step - loss: 0.0025\n",
            "Epoch 86/250\n",
            "18/18 [==============================] - 0s 21ms/step - loss: 0.0024\n",
            "Epoch 87/250\n",
            "18/18 [==============================] - 0s 21ms/step - loss: 0.0026\n",
            "Epoch 88/250\n",
            "18/18 [==============================] - 0s 21ms/step - loss: 0.0027\n",
            "Epoch 89/250\n",
            "18/18 [==============================] - 0s 21ms/step - loss: 0.0026\n",
            "Epoch 90/250\n",
            "18/18 [==============================] - 0s 21ms/step - loss: 0.0030\n",
            "Epoch 91/250\n",
            "18/18 [==============================] - 0s 21ms/step - loss: 0.0028\n",
            "Epoch 92/250\n",
            "18/18 [==============================] - 0s 21ms/step - loss: 0.0026\n",
            "Epoch 93/250\n",
            "18/18 [==============================] - 0s 21ms/step - loss: 0.0024\n",
            "Epoch 94/250\n",
            "18/18 [==============================] - 0s 21ms/step - loss: 0.0024\n",
            "Epoch 95/250\n",
            "18/18 [==============================] - 0s 21ms/step - loss: 0.0024\n",
            "Epoch 96/250\n",
            "18/18 [==============================] - 0s 21ms/step - loss: 0.0026\n",
            "Epoch 97/250\n",
            "18/18 [==============================] - 0s 21ms/step - loss: 0.0026\n",
            "Epoch 98/250\n",
            "18/18 [==============================] - 0s 21ms/step - loss: 0.0023\n",
            "Epoch 99/250\n",
            "18/18 [==============================] - 0s 21ms/step - loss: 0.0025\n",
            "Epoch 100/250\n",
            "18/18 [==============================] - 0s 21ms/step - loss: 0.0022\n",
            "Epoch 101/250\n",
            "18/18 [==============================] - 0s 21ms/step - loss: 0.0024\n",
            "Epoch 102/250\n",
            "18/18 [==============================] - 0s 21ms/step - loss: 0.0022\n",
            "Epoch 103/250\n",
            "18/18 [==============================] - 0s 21ms/step - loss: 0.0023\n",
            "Epoch 104/250\n",
            "18/18 [==============================] - 0s 21ms/step - loss: 0.0022\n",
            "Epoch 105/250\n",
            "18/18 [==============================] - 0s 21ms/step - loss: 0.0023\n",
            "Epoch 106/250\n",
            "18/18 [==============================] - 0s 21ms/step - loss: 0.0023\n",
            "Epoch 107/250\n",
            "18/18 [==============================] - 0s 20ms/step - loss: 0.0024\n",
            "Epoch 108/250\n",
            "18/18 [==============================] - 0s 21ms/step - loss: 0.0022\n",
            "Epoch 109/250\n",
            "18/18 [==============================] - 0s 21ms/step - loss: 0.0024\n",
            "Epoch 110/250\n",
            "18/18 [==============================] - 0s 21ms/step - loss: 0.0022\n",
            "Epoch 111/250\n",
            "18/18 [==============================] - 0s 21ms/step - loss: 0.0024\n",
            "Epoch 112/250\n",
            "18/18 [==============================] - 0s 21ms/step - loss: 0.0023\n",
            "Epoch 113/250\n",
            "18/18 [==============================] - 0s 21ms/step - loss: 0.0021\n",
            "Epoch 114/250\n",
            "18/18 [==============================] - 0s 21ms/step - loss: 0.0024\n",
            "Epoch 115/250\n",
            "18/18 [==============================] - 0s 21ms/step - loss: 0.0022\n",
            "Epoch 116/250\n",
            "18/18 [==============================] - 0s 21ms/step - loss: 0.0021\n",
            "Epoch 117/250\n",
            "18/18 [==============================] - 0s 21ms/step - loss: 0.0021\n",
            "Epoch 118/250\n",
            "18/18 [==============================] - 0s 21ms/step - loss: 0.0021\n",
            "Epoch 119/250\n",
            "18/18 [==============================] - 0s 21ms/step - loss: 0.0020\n",
            "Epoch 120/250\n",
            "18/18 [==============================] - 0s 21ms/step - loss: 0.0019\n",
            "Epoch 121/250\n",
            "18/18 [==============================] - 0s 21ms/step - loss: 0.0021\n",
            "Epoch 122/250\n",
            "18/18 [==============================] - 0s 21ms/step - loss: 0.0020\n",
            "Epoch 123/250\n",
            "18/18 [==============================] - 0s 21ms/step - loss: 0.0023\n",
            "Epoch 124/250\n",
            "18/18 [==============================] - 0s 21ms/step - loss: 0.0019\n",
            "Epoch 125/250\n",
            "18/18 [==============================] - 0s 21ms/step - loss: 0.0018\n",
            "Epoch 126/250\n",
            "18/18 [==============================] - 0s 21ms/step - loss: 0.0020\n",
            "Epoch 127/250\n",
            "18/18 [==============================] - 0s 21ms/step - loss: 0.0020\n",
            "Epoch 128/250\n",
            "18/18 [==============================] - 0s 21ms/step - loss: 0.0020\n",
            "Epoch 129/250\n",
            "18/18 [==============================] - 0s 21ms/step - loss: 0.0019\n",
            "Epoch 130/250\n",
            "18/18 [==============================] - 0s 21ms/step - loss: 0.0019\n",
            "Epoch 131/250\n",
            "18/18 [==============================] - 0s 21ms/step - loss: 0.0019\n",
            "Epoch 132/250\n",
            "18/18 [==============================] - 0s 21ms/step - loss: 0.0020\n",
            "Epoch 133/250\n",
            "18/18 [==============================] - 0s 21ms/step - loss: 0.0019\n",
            "Epoch 134/250\n",
            "18/18 [==============================] - 0s 21ms/step - loss: 0.0018\n",
            "Epoch 135/250\n",
            "18/18 [==============================] - 0s 21ms/step - loss: 0.0018\n",
            "Epoch 136/250\n",
            "18/18 [==============================] - 0s 21ms/step - loss: 0.0019\n",
            "Epoch 137/250\n",
            "18/18 [==============================] - 0s 21ms/step - loss: 0.0018\n",
            "Epoch 138/250\n",
            "18/18 [==============================] - 0s 21ms/step - loss: 0.0020\n",
            "Epoch 139/250\n",
            "18/18 [==============================] - 0s 21ms/step - loss: 0.0016\n",
            "Epoch 140/250\n",
            "18/18 [==============================] - 0s 22ms/step - loss: 0.0019\n",
            "Epoch 141/250\n",
            "18/18 [==============================] - 0s 21ms/step - loss: 0.0018\n",
            "Epoch 142/250\n",
            "18/18 [==============================] - 0s 21ms/step - loss: 0.0017\n",
            "Epoch 143/250\n",
            "18/18 [==============================] - 0s 21ms/step - loss: 0.0018\n",
            "Epoch 144/250\n",
            "18/18 [==============================] - 0s 21ms/step - loss: 0.0018\n",
            "Epoch 145/250\n",
            "18/18 [==============================] - 0s 21ms/step - loss: 0.0020\n",
            "Epoch 146/250\n",
            "18/18 [==============================] - 0s 21ms/step - loss: 0.0018\n",
            "Epoch 147/250\n",
            "18/18 [==============================] - 0s 21ms/step - loss: 0.0019\n",
            "Epoch 148/250\n",
            "18/18 [==============================] - 0s 21ms/step - loss: 0.0017\n",
            "Epoch 149/250\n",
            "18/18 [==============================] - 0s 21ms/step - loss: 0.0017\n",
            "Epoch 150/250\n",
            "18/18 [==============================] - 0s 21ms/step - loss: 0.0017\n",
            "Epoch 151/250\n",
            "18/18 [==============================] - 0s 21ms/step - loss: 0.0016\n",
            "Epoch 152/250\n",
            "18/18 [==============================] - 0s 21ms/step - loss: 0.0017\n",
            "Epoch 153/250\n",
            "18/18 [==============================] - 0s 21ms/step - loss: 0.0018\n",
            "Epoch 154/250\n",
            "18/18 [==============================] - 0s 21ms/step - loss: 0.0017\n",
            "Epoch 155/250\n",
            "18/18 [==============================] - 0s 21ms/step - loss: 0.0018\n",
            "Epoch 156/250\n",
            "18/18 [==============================] - 0s 21ms/step - loss: 0.0017\n",
            "Epoch 157/250\n",
            "18/18 [==============================] - 0s 21ms/step - loss: 0.0016\n",
            "Epoch 158/250\n",
            "18/18 [==============================] - 0s 21ms/step - loss: 0.0017\n",
            "Epoch 159/250\n",
            "18/18 [==============================] - 0s 21ms/step - loss: 0.0016\n",
            "Epoch 160/250\n",
            "18/18 [==============================] - 0s 21ms/step - loss: 0.0017\n",
            "Epoch 161/250\n",
            "18/18 [==============================] - 0s 21ms/step - loss: 0.0018\n",
            "Epoch 162/250\n",
            "18/18 [==============================] - 0s 21ms/step - loss: 0.0017\n",
            "Epoch 163/250\n",
            "18/18 [==============================] - 0s 21ms/step - loss: 0.0017\n",
            "Epoch 164/250\n",
            "18/18 [==============================] - 0s 21ms/step - loss: 0.0016\n",
            "Epoch 165/250\n",
            "18/18 [==============================] - 0s 21ms/step - loss: 0.0016\n",
            "Epoch 166/250\n",
            "18/18 [==============================] - 0s 21ms/step - loss: 0.0016\n",
            "Epoch 167/250\n",
            "18/18 [==============================] - 0s 21ms/step - loss: 0.0016\n",
            "Epoch 168/250\n",
            "18/18 [==============================] - 0s 20ms/step - loss: 0.0018\n",
            "Epoch 169/250\n",
            "18/18 [==============================] - 0s 21ms/step - loss: 0.0015\n",
            "Epoch 170/250\n",
            "18/18 [==============================] - 0s 21ms/step - loss: 0.0014\n",
            "Epoch 171/250\n",
            "18/18 [==============================] - 0s 21ms/step - loss: 0.0016\n",
            "Epoch 172/250\n",
            "18/18 [==============================] - 0s 21ms/step - loss: 0.0014\n",
            "Epoch 173/250\n",
            "18/18 [==============================] - 0s 21ms/step - loss: 0.0015\n",
            "Epoch 174/250\n",
            "18/18 [==============================] - 0s 21ms/step - loss: 0.0015\n",
            "Epoch 175/250\n",
            "18/18 [==============================] - 0s 21ms/step - loss: 0.0014\n",
            "Epoch 176/250\n",
            "18/18 [==============================] - 0s 21ms/step - loss: 0.0014\n",
            "Epoch 177/250\n",
            "18/18 [==============================] - 0s 21ms/step - loss: 0.0015\n",
            "Epoch 178/250\n",
            "18/18 [==============================] - 0s 21ms/step - loss: 0.0015\n",
            "Epoch 179/250\n",
            "18/18 [==============================] - 0s 21ms/step - loss: 0.0014\n",
            "Epoch 180/250\n",
            "18/18 [==============================] - 0s 21ms/step - loss: 0.0015\n",
            "Epoch 181/250\n",
            "18/18 [==============================] - 0s 21ms/step - loss: 0.0014\n",
            "Epoch 182/250\n",
            "18/18 [==============================] - 0s 21ms/step - loss: 0.0015\n",
            "Epoch 183/250\n",
            "18/18 [==============================] - 0s 21ms/step - loss: 0.0014\n",
            "Epoch 184/250\n",
            "18/18 [==============================] - 0s 21ms/step - loss: 0.0013\n",
            "Epoch 185/250\n",
            "18/18 [==============================] - 0s 22ms/step - loss: 0.0013\n",
            "Epoch 186/250\n",
            "18/18 [==============================] - 0s 21ms/step - loss: 0.0017\n",
            "Epoch 187/250\n",
            "18/18 [==============================] - 0s 21ms/step - loss: 0.0014\n",
            "Epoch 188/250\n",
            "18/18 [==============================] - 0s 21ms/step - loss: 0.0015\n",
            "Epoch 189/250\n",
            "18/18 [==============================] - 0s 21ms/step - loss: 0.0014\n",
            "Epoch 190/250\n",
            "18/18 [==============================] - 0s 21ms/step - loss: 0.0015\n",
            "Epoch 191/250\n",
            "18/18 [==============================] - 0s 21ms/step - loss: 0.0014\n",
            "Epoch 192/250\n",
            "18/18 [==============================] - 0s 21ms/step - loss: 0.0015\n",
            "Epoch 193/250\n",
            "18/18 [==============================] - 0s 21ms/step - loss: 0.0013\n",
            "Epoch 194/250\n",
            "18/18 [==============================] - 0s 21ms/step - loss: 0.0012\n",
            "Epoch 195/250\n",
            "18/18 [==============================] - 0s 21ms/step - loss: 0.0012\n",
            "Epoch 196/250\n",
            "18/18 [==============================] - 0s 21ms/step - loss: 0.0013\n",
            "Epoch 197/250\n",
            "18/18 [==============================] - 0s 21ms/step - loss: 0.0013\n",
            "Epoch 198/250\n",
            "18/18 [==============================] - 0s 21ms/step - loss: 0.0014\n",
            "Epoch 199/250\n",
            "18/18 [==============================] - 0s 22ms/step - loss: 0.0013\n",
            "Epoch 200/250\n",
            "18/18 [==============================] - 0s 21ms/step - loss: 0.0014\n",
            "Epoch 201/250\n",
            "18/18 [==============================] - 0s 21ms/step - loss: 0.0013\n",
            "Epoch 202/250\n",
            "18/18 [==============================] - 0s 21ms/step - loss: 0.0013\n",
            "Epoch 203/250\n",
            "18/18 [==============================] - 0s 21ms/step - loss: 0.0012\n",
            "Epoch 204/250\n",
            "18/18 [==============================] - 0s 21ms/step - loss: 0.0013\n",
            "Epoch 205/250\n",
            "18/18 [==============================] - 0s 21ms/step - loss: 0.0012\n",
            "Epoch 206/250\n",
            "18/18 [==============================] - 0s 21ms/step - loss: 0.0014\n",
            "Epoch 207/250\n",
            "18/18 [==============================] - 0s 21ms/step - loss: 0.0013\n",
            "Epoch 208/250\n",
            "18/18 [==============================] - 0s 21ms/step - loss: 0.0013\n",
            "Epoch 209/250\n",
            "18/18 [==============================] - 0s 21ms/step - loss: 0.0012\n",
            "Epoch 210/250\n",
            "18/18 [==============================] - 0s 21ms/step - loss: 0.0012\n",
            "Epoch 211/250\n",
            "18/18 [==============================] - 0s 21ms/step - loss: 0.0013\n",
            "Epoch 212/250\n",
            "18/18 [==============================] - 0s 21ms/step - loss: 0.0012\n",
            "Epoch 213/250\n",
            "18/18 [==============================] - 0s 21ms/step - loss: 0.0013\n",
            "Epoch 214/250\n",
            "18/18 [==============================] - 0s 21ms/step - loss: 0.0012\n",
            "Epoch 215/250\n",
            "18/18 [==============================] - 0s 21ms/step - loss: 0.0012\n",
            "Epoch 216/250\n",
            "18/18 [==============================] - 0s 21ms/step - loss: 0.0012\n",
            "Epoch 217/250\n",
            "18/18 [==============================] - 0s 21ms/step - loss: 0.0012\n",
            "Epoch 218/250\n",
            "18/18 [==============================] - 0s 21ms/step - loss: 0.0012\n",
            "Epoch 219/250\n",
            "18/18 [==============================] - 0s 22ms/step - loss: 0.0011\n",
            "Epoch 220/250\n",
            "18/18 [==============================] - 0s 21ms/step - loss: 0.0011\n",
            "Epoch 221/250\n",
            "18/18 [==============================] - 0s 21ms/step - loss: 0.0011\n",
            "Epoch 222/250\n",
            "18/18 [==============================] - 0s 21ms/step - loss: 0.0012\n",
            "Epoch 223/250\n",
            "18/18 [==============================] - 0s 21ms/step - loss: 0.0012\n",
            "Epoch 224/250\n",
            "18/18 [==============================] - 0s 21ms/step - loss: 0.0012\n",
            "Epoch 225/250\n",
            "18/18 [==============================] - 0s 21ms/step - loss: 0.0012\n",
            "Epoch 226/250\n",
            "18/18 [==============================] - 0s 21ms/step - loss: 0.0011\n",
            "Epoch 227/250\n",
            "18/18 [==============================] - 0s 21ms/step - loss: 0.0012\n",
            "Epoch 228/250\n",
            "18/18 [==============================] - 0s 21ms/step - loss: 0.0012\n",
            "Epoch 229/250\n",
            "18/18 [==============================] - 0s 21ms/step - loss: 0.0010\n",
            "Epoch 230/250\n",
            "18/18 [==============================] - 0s 21ms/step - loss: 0.0012\n",
            "Epoch 231/250\n",
            "18/18 [==============================] - 0s 21ms/step - loss: 0.0011\n",
            "Epoch 232/250\n",
            "18/18 [==============================] - 0s 22ms/step - loss: 0.0013\n",
            "Epoch 233/250\n",
            "18/18 [==============================] - 0s 21ms/step - loss: 0.0012\n",
            "Epoch 234/250\n",
            "18/18 [==============================] - 0s 21ms/step - loss: 0.0011\n",
            "Epoch 235/250\n",
            "18/18 [==============================] - 0s 21ms/step - loss: 0.0012\n",
            "Epoch 236/250\n",
            "18/18 [==============================] - 0s 21ms/step - loss: 0.0011\n",
            "Epoch 237/250\n",
            "18/18 [==============================] - 0s 21ms/step - loss: 0.0012\n",
            "Epoch 238/250\n",
            "18/18 [==============================] - 0s 21ms/step - loss: 0.0011\n",
            "Epoch 239/250\n",
            "18/18 [==============================] - 0s 21ms/step - loss: 0.0012\n",
            "Epoch 240/250\n",
            "18/18 [==============================] - 0s 21ms/step - loss: 0.0010\n",
            "Epoch 241/250\n",
            "18/18 [==============================] - 0s 21ms/step - loss: 0.0011\n",
            "Epoch 242/250\n",
            "18/18 [==============================] - 0s 21ms/step - loss: 0.0011\n",
            "Epoch 243/250\n",
            "18/18 [==============================] - 0s 21ms/step - loss: 0.0010\n",
            "Epoch 244/250\n",
            "18/18 [==============================] - 0s 21ms/step - loss: 0.0010\n",
            "Epoch 245/250\n",
            "18/18 [==============================] - 0s 21ms/step - loss: 0.0011\n",
            "Epoch 246/250\n",
            "18/18 [==============================] - 0s 21ms/step - loss: 0.0011\n",
            "Epoch 247/250\n",
            "18/18 [==============================] - 0s 21ms/step - loss: 0.0010\n",
            "Epoch 248/250\n",
            "18/18 [==============================] - 0s 21ms/step - loss: 0.0012\n",
            "Epoch 249/250\n",
            "18/18 [==============================] - 0s 21ms/step - loss: 0.0010\n",
            "Epoch 250/250\n",
            "18/18 [==============================] - 0s 21ms/step - loss: 0.0011\n",
            "CPU times: user 1min 42s, sys: 10.1 s, total: 1min 53s\n",
            "Wall time: 1min 45s\n"
          ],
          "name": "stdout"
        }
      ]
    },
    {
      "cell_type": "code",
      "metadata": {
        "id": "3XN7z5E9c3Hn",
        "colab_type": "code",
        "colab": {}
      },
      "source": [
        "regressor.save(\"RNN_Google_Stock_prev_days_{}.h5\".format(prev_days))"
      ],
      "execution_count": 0,
      "outputs": []
    },
    {
      "cell_type": "code",
      "metadata": {
        "id": "O_b1MjJV8Q3B",
        "colab_type": "code",
        "colab": {}
      },
      "source": [
        "from tensorflow.keras.utils import plot_model\n",
        "plot_model(classifier, show_shapes=True, show_layer_names=True)"
      ],
      "execution_count": 0,
      "outputs": []
    },
    {
      "cell_type": "markdown",
      "metadata": {
        "id": "eH79VK4NcIM5",
        "colab_type": "text"
      },
      "source": [
        "# Reding Dataset for prediction"
      ]
    },
    {
      "cell_type": "markdown",
      "metadata": {
        "id": "jhoUeH4IcOaI",
        "colab_type": "text"
      },
      "source": [
        "## Read The dataset"
      ]
    },
    {
      "cell_type": "code",
      "metadata": {
        "id": "rNDAUCmocIIA",
        "colab_type": "code",
        "colab": {}
      },
      "source": [
        "dataset_test = pd.read_csv('Google_Stock_Price_Test.csv')\n",
        "real_stock_price = dataset_test.iloc[:, 1:2].values"
      ],
      "execution_count": 0,
      "outputs": []
    },
    {
      "cell_type": "markdown",
      "metadata": {
        "id": "jAmRpg7xcbq4",
        "colab_type": "text"
      },
      "source": [
        "## Preparing The Dataset for Prediction"
      ]
    },
    {
      "cell_type": "code",
      "metadata": {
        "id": "bxNALPn-cIDD",
        "colab_type": "code",
        "colab": {}
      },
      "source": [
        "dataset_total = pd.concat((dataset_train['Open'], dataset_test['Open']), axis = 0)\n",
        "inputs = dataset_total[len(dataset_total) - len(dataset_test) - prev_days:].values\n",
        "inputs = inputs.reshape(-1,1)\n",
        "inputs = sc.transform(inputs)\n",
        "X_test = []\n",
        "for i in range(prev_days, prev_days+20):\n",
        "    X_test.append(inputs[i-prev_days:i, 0])\n",
        "X_test = np.array(X_test)\n",
        "X_test = np.reshape(X_test, (X_test.shape[0], X_test.shape[1], 1))"
      ],
      "execution_count": 0,
      "outputs": []
    },
    {
      "cell_type": "markdown",
      "metadata": {
        "id": "qJmFFb7AdJ0k",
        "colab_type": "text"
      },
      "source": [
        "# Predicting values for Test set"
      ]
    },
    {
      "cell_type": "code",
      "metadata": {
        "id": "J_eMduW4cH91",
        "colab_type": "code",
        "colab": {}
      },
      "source": [
        "predicted_stock_price = regressor.predict(X_test)\n",
        "predicted_stock_price = sc.inverse_transform(predicted_stock_price)"
      ],
      "execution_count": 0,
      "outputs": []
    },
    {
      "cell_type": "markdown",
      "metadata": {
        "id": "ykYgxY-5eWJP",
        "colab_type": "text"
      },
      "source": [
        "# Plotting the Prediction"
      ]
    },
    {
      "cell_type": "code",
      "metadata": {
        "id": "cPOeFf7AcH4v",
        "colab_type": "code",
        "colab": {
          "base_uri": "https://localhost:8080/",
          "height": 930
        },
        "outputId": "5217ee5c-805e-47a6-c74a-b3a97243a7d1"
      },
      "source": [
        "plt.figure(figsize=(16,16))\n",
        "plt.plot(real_stock_price, color = 'red', label = 'Real Google Stock Price')\n",
        "plt.plot(predicted_stock_price, color = 'blue', label = 'Predicted Google Stock Price')\n",
        "plt.title('Google Stock Price Prediction')\n",
        "plt.xlabel('Time')\n",
        "plt.ylabel('Google Stock Price')\n",
        "plt.legend()\n",
        "plt.show()"
      ],
      "execution_count": 39,
      "outputs": [
        {
          "output_type": "display_data",
          "data": {
            "image/png": "[encoded data removed]",
            "text/plain": [
              "<Figure size 1152x1152 with 1 Axes>"
            ]
          },
          "metadata": {
            "tags": [],
            "needs_background": "light"
          }
        }
      ]
    },
    {
      "cell_type": "markdown",
      "metadata": {
        "id": "vnXjX7H3fYyq",
        "colab_type": "text"
      },
      "source": [
        "as we can see in the above figure, the predicted stock price follows a curve similar to the real stock price. although the values are not the same, the RNN is able to predict the trends in the price fluctuation. The curve is also smoothened as compared to the real curve, which indiacted that the neteork is less susciptible to high fluctuations."
      ]
    },
    {
      "cell_type": "code",
      "metadata": {
        "id": "Ljitk3qEcHzE",
        "colab_type": "code",
        "colab": {}
      },
      "source": [
        ""
      ],
      "execution_count": 0,
      "outputs": []
    },
    {
      "cell_type": "code",
      "metadata": {
        "id": "z62wMSWCcHsa",
        "colab_type": "code",
        "colab": {}
      },
      "source": [
        ""
      ],
      "execution_count": 0,
      "outputs": []
    },
    {
      "cell_type": "code",
      "metadata": {
        "id": "N_96QDbtYPsq",
        "colab_type": "code",
        "colab": {}
      },
      "source": [
        ""
      ],
      "execution_count": 0,
      "outputs": []
    },
    {
      "cell_type": "code",
      "metadata": {
        "id": "Sb1ihXe7YPnn",
        "colab_type": "code",
        "colab": {}
      },
      "source": [
        ""
      ],
      "execution_count": 0,
      "outputs": []
    },
    {
      "cell_type": "code",
      "metadata": {
        "id": "Q_gxm0HCYPcS",
        "colab_type": "code",
        "colab": {}
      },
      "source": [
        ""
      ],
      "execution_count": 0,
      "outputs": []
    },
    {
      "cell_type": "code",
      "metadata": {
        "id": "oiUSRLM8YDdD",
        "colab_type": "code",
        "colab": {}
      },
      "source": [
        ""
      ],
      "execution_count": 0,
      "outputs": []
    }
  ]
}