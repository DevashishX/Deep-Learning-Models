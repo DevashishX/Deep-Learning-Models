{
  "nbformat": 4,
  "nbformat_minor": 0,
  "metadata": {
    "colab": {
      "name": "DLAZ_AEN.ipynb",
      "provenance": [],
      "authorship_tag": "ABX9TyOBHU5KDcwJ3d8NmldDWe01",
      "include_colab_link": true
    },
    "kernelspec": {
      "name": "python3",
      "display_name": "Python 3"
    },
    "accelerator": "GPU"
  },
  "cells": [
    {
      "cell_type": "markdown",
      "metadata": {
        "id": "view-in-github",
        "colab_type": "text"
      },
      "source": [
        "<a href=\"https://colab.research.google.com/github/DevashishX/Deep-Learning-Models/blob/master/DLAZ_AEN.ipynb\" target=\"_parent\"><img src=\"https://colab.research.google.com/assets/colab-badge.svg\" alt=\"Open In Colab\"/></a>"
      ]
    },
    {
      "cell_type": "markdown",
      "metadata": {
        "id": "aVRTbFdXFAv5",
        "colab_type": "text"
      },
      "source": [
        "# AutoEncoders from Deep Learning A-Z on Udemy"
      ]
    },
    {
      "cell_type": "markdown",
      "metadata": {
        "id": "I9EB8nJbFtUE",
        "colab_type": "text"
      },
      "source": [
        "We use autoencoders to predict the score (or stars) between 1 to 5 to know how much a user likes a movie based on his previous movie ratings"
      ]
    },
    {
      "cell_type": "markdown",
      "metadata": {
        "id": "I3q7_XWfF61i",
        "colab_type": "text"
      },
      "source": [
        "# Getting Dataset"
      ]
    },
    {
      "cell_type": "code",
      "metadata": {
        "id": "X0FXNnBlFtXb",
        "colab_type": "code",
        "colab": {
          "base_uri": "https://localhost:8080/",
          "height": 208
        },
        "outputId": "b3b0fbfa-8ff5-458e-f9fe-dc12be85edb1"
      },
      "source": [
        "!wget https://sds-platform-private.s3-us-east-2.amazonaws.com/uploads/P16-AutoEncoders.zip\n",
        "!unzip -q P16-AutoEncoders.zip\n",
        "!mv AutoEncoders/* .\n",
        "!unzip -q ml-100k.zip \n",
        "!unzip -q ml-1m.zip"
      ],
      "execution_count": 1,
      "outputs": [
        {
          "output_type": "stream",
          "text": [
            "--2020-05-09 06:25:27--  https://sds-platform-private.s3-us-east-2.amazonaws.com/uploads/P16-AutoEncoders.zip\n",
            "Resolving sds-platform-private.s3-us-east-2.amazonaws.com (sds-platform-private.s3-us-east-2.amazonaws.com)... 52.219.104.56\n",
            "Connecting to sds-platform-private.s3-us-east-2.amazonaws.com (sds-platform-private.s3-us-east-2.amazonaws.com)|52.219.104.56|:443... connected.\n",
            "HTTP request sent, awaiting response... 200 OK\n",
            "Length: 17069342 (16M) [application/zip]\n",
            "Saving to: ‘P16-AutoEncoders.zip’\n",
            "\n",
            "P16-AutoEncoders.zi 100%[===================>]  16.28M  19.6MB/s    in 0.8s    \n",
            "\n",
            "2020-05-09 06:25:28 (19.6 MB/s) - ‘P16-AutoEncoders.zip’ saved [17069342/17069342]\n",
            "\n"
          ],
          "name": "stdout"
        }
      ]
    },
    {
      "cell_type": "code",
      "metadata": {
        "id": "hGHWIYhuFtbY",
        "colab_type": "code",
        "colab": {}
      },
      "source": [
        "import numpy as np\n",
        "import pandas as pd"
      ],
      "execution_count": 0,
      "outputs": []
    },
    {
      "cell_type": "code",
      "metadata": {
        "id": "1ygUaXYnFtgU",
        "colab_type": "code",
        "colab": {}
      },
      "source": [
        "# Importing the dataset\n",
        "movies = pd.read_csv('ml-1m/movies.dat', sep = '::', header = None, engine = 'python', encoding = 'latin-1')\n",
        "users = pd.read_csv('ml-1m/users.dat', sep = '::', header = None, engine = 'python', encoding = 'latin-1')\n",
        "ratings = pd.read_csv('ml-1m/ratings.dat', sep = '::', header = None, engine = 'python', encoding = 'latin-1')\n",
        "\n",
        "# Preparing the training set and the test set\n",
        "training_set = pd.read_csv('ml-100k/u1.base', delimiter = '\\t')\n",
        "training_set = np.array(training_set, dtype = 'int')\n",
        "test_set = pd.read_csv('ml-100k/u1.test', delimiter = '\\t')\n",
        "test_set = np.array(test_set, dtype = 'int')\n",
        "\n",
        "# Getting the number of users and movies\n",
        "nb_users = int(max(max(training_set[:,0]), max(test_set[:,0])))\n",
        "nb_movies = int(max(max(training_set[:,1]), max(test_set[:,1])))"
      ],
      "execution_count": 0,
      "outputs": []
    },
    {
      "cell_type": "code",
      "metadata": {
        "id": "fmHrmDPRFtj7",
        "colab_type": "code",
        "colab": {}
      },
      "source": [
        "# Converting the data into an array with users in lines and movies in columns\n",
        "def convert(data):\n",
        "    new_data = []\n",
        "    for id_users in range(1, nb_users + 1):\n",
        "        id_movies = data[:,1][data[:,0] == id_users]\n",
        "        id_ratings = data[:,2][data[:,0] == id_users]\n",
        "        ratings = np.zeros(nb_movies)\n",
        "        ratings[id_movies - 1] = id_ratings\n",
        "        new_data.append(list(ratings))\n",
        "    return new_data\n",
        "training_set = convert(training_set)\n",
        "test_set = convert(test_set)"
      ],
      "execution_count": 0,
      "outputs": []
    },
    {
      "cell_type": "markdown",
      "metadata": {
        "id": "z48Q64gxGerO",
        "colab_type": "text"
      },
      "source": [
        "## Converting Data into PyTorch Tensors"
      ]
    },
    {
      "cell_type": "code",
      "metadata": {
        "id": "HWOS6M8yFtly",
        "colab_type": "code",
        "colab": {}
      },
      "source": [
        "import torch"
      ],
      "execution_count": 0,
      "outputs": []
    },
    {
      "cell_type": "code",
      "metadata": {
        "id": "FOElYNWtFtpo",
        "colab_type": "code",
        "colab": {}
      },
      "source": [
        "training_set = torch.FloatTensor(training_set)\n",
        "test_set = torch.FloatTensor(test_set)"
      ],
      "execution_count": 0,
      "outputs": []
    },
    {
      "cell_type": "markdown",
      "metadata": {
        "id": "xyFVIjRlGndN",
        "colab_type": "text"
      },
      "source": [
        "# Building the AutoEncoder"
      ]
    },
    {
      "cell_type": "code",
      "metadata": {
        "id": "fsEp0YNgHNrk",
        "colab_type": "code",
        "colab": {}
      },
      "source": [
        "import torch.nn as nn\n",
        "import torch.nn.parallel\n",
        "import torch.optim as optim\n",
        "import torch.utils.data\n",
        "from torch.autograd import Variable"
      ],
      "execution_count": 0,
      "outputs": []
    },
    {
      "cell_type": "code",
      "metadata": {
        "id": "TwnthSD4FttB",
        "colab_type": "code",
        "colab": {}
      },
      "source": [
        "class SAE(nn.Module):\n",
        "    def __init__(self, ):\n",
        "        super(SAE, self).__init__()\n",
        "        self.fc1 = nn.Linear(nb_movies, 20)\n",
        "        self.fc2 = nn.Linear(20, 10)\n",
        "        self.fc3 = nn.Linear(10, 20)\n",
        "        self.fc4 = nn.Linear(20, nb_movies)\n",
        "        self.activation = nn.Sigmoid()\n",
        "    def forward(self, x):\n",
        "        x = self.activation(self.fc1(x))\n",
        "        x = self.activation(self.fc2(x))\n",
        "        x = self.activation(self.fc3(x))\n",
        "        x = self.fc4(x)\n",
        "        return x"
      ],
      "execution_count": 0,
      "outputs": []
    },
    {
      "cell_type": "markdown",
      "metadata": {
        "id": "H-oUbV1xGsrP",
        "colab_type": "text"
      },
      "source": [
        "# Training AutoEncoder"
      ]
    },
    {
      "cell_type": "code",
      "metadata": {
        "id": "bRE6HRnDF80s",
        "colab_type": "code",
        "colab": {}
      },
      "source": [
        "sae = SAE()\n",
        "criterion = nn.MSELoss()\n",
        "optimizer = optim.RMSprop(sae.parameters(), lr = 0.01, weight_decay = 0.5)"
      ],
      "execution_count": 0,
      "outputs": []
    },
    {
      "cell_type": "code",
      "metadata": {
        "id": "WXPDcIW4FtzE",
        "colab_type": "code",
        "colab": {
          "base_uri": "https://localhost:8080/",
          "height": 1000
        },
        "outputId": "25f38548-40d1-4d04-89ad-656c33f4b60e"
      },
      "source": [
        "nb_epoch = 200\n",
        "for epoch in range(1, nb_epoch + 1):\n",
        "    train_loss = 0\n",
        "    s = 0.\n",
        "    for id_user in range(nb_users):\n",
        "        input = Variable(training_set[id_user]).unsqueeze(0)\n",
        "        target = input.clone()\n",
        "        if torch.sum(target.data > 0) > 0:\n",
        "            output = sae(input)\n",
        "            target.require_grad = False\n",
        "            output[target == 0] = 0\n",
        "            loss = criterion(output, target)\n",
        "            mean_corrector = nb_movies/float(torch.sum(target.data > 0) + 1e-10)\n",
        "            loss.backward()\n",
        "            train_loss += np.sqrt(loss.data*mean_corrector)\n",
        "            s += 1.\n",
        "            optimizer.step()\n",
        "    print('epoch: '+str(epoch)+' loss: '+str(train_loss/s))"
      ],
      "execution_count": 13,
      "outputs": [
        {
          "output_type": "stream",
          "text": [
            "epoch: 1 loss: tensor(1.7715)\n",
            "epoch: 2 loss: tensor(1.0968)\n",
            "epoch: 3 loss: tensor(1.0534)\n",
            "epoch: 4 loss: tensor(1.0384)\n",
            "epoch: 5 loss: tensor(1.0306)\n",
            "epoch: 6 loss: tensor(1.0267)\n",
            "epoch: 7 loss: tensor(1.0237)\n",
            "epoch: 8 loss: tensor(1.0221)\n",
            "epoch: 9 loss: tensor(1.0207)\n",
            "epoch: 10 loss: tensor(1.0196)\n",
            "epoch: 11 loss: tensor(1.0186)\n",
            "epoch: 12 loss: tensor(1.0185)\n",
            "epoch: 13 loss: tensor(1.0178)\n",
            "epoch: 14 loss: tensor(1.0175)\n",
            "epoch: 15 loss: tensor(1.0172)\n",
            "epoch: 16 loss: tensor(1.0169)\n",
            "epoch: 17 loss: tensor(1.0167)\n",
            "epoch: 18 loss: tensor(1.0166)\n",
            "epoch: 19 loss: tensor(1.0163)\n",
            "epoch: 20 loss: tensor(1.0160)\n",
            "epoch: 21 loss: tensor(1.0161)\n",
            "epoch: 22 loss: tensor(1.0159)\n",
            "epoch: 23 loss: tensor(1.0156)\n",
            "epoch: 24 loss: tensor(1.0159)\n",
            "epoch: 25 loss: tensor(1.0154)\n",
            "epoch: 26 loss: tensor(1.0156)\n",
            "epoch: 27 loss: tensor(1.0153)\n",
            "epoch: 28 loss: tensor(1.0152)\n",
            "epoch: 29 loss: tensor(1.0125)\n",
            "epoch: 30 loss: tensor(1.0116)\n",
            "epoch: 31 loss: tensor(1.0095)\n",
            "epoch: 32 loss: tensor(1.0089)\n",
            "epoch: 33 loss: tensor(1.0053)\n",
            "epoch: 34 loss: tensor(1.0046)\n",
            "epoch: 35 loss: tensor(1.0010)\n",
            "epoch: 36 loss: tensor(1.0016)\n",
            "epoch: 37 loss: tensor(0.9974)\n",
            "epoch: 38 loss: tensor(0.9969)\n",
            "epoch: 39 loss: tensor(0.9932)\n",
            "epoch: 40 loss: tensor(0.9950)\n",
            "epoch: 41 loss: tensor(0.9930)\n",
            "epoch: 42 loss: tensor(0.9916)\n",
            "epoch: 43 loss: tensor(0.9884)\n",
            "epoch: 44 loss: tensor(0.9875)\n",
            "epoch: 45 loss: tensor(0.9857)\n",
            "epoch: 46 loss: tensor(0.9874)\n",
            "epoch: 47 loss: tensor(0.9850)\n",
            "epoch: 48 loss: tensor(0.9851)\n",
            "epoch: 49 loss: tensor(0.9839)\n",
            "epoch: 50 loss: tensor(0.9868)\n",
            "epoch: 51 loss: tensor(0.9815)\n",
            "epoch: 52 loss: tensor(0.9819)\n",
            "epoch: 53 loss: tensor(0.9774)\n",
            "epoch: 54 loss: tensor(0.9756)\n",
            "epoch: 55 loss: tensor(0.9719)\n",
            "epoch: 56 loss: tensor(0.9712)\n",
            "epoch: 57 loss: tensor(0.9660)\n",
            "epoch: 58 loss: tensor(0.9663)\n",
            "epoch: 59 loss: tensor(0.9614)\n",
            "epoch: 60 loss: tensor(0.9649)\n",
            "epoch: 61 loss: tensor(0.9600)\n",
            "epoch: 62 loss: tensor(0.9613)\n",
            "epoch: 63 loss: tensor(0.9570)\n",
            "epoch: 64 loss: tensor(0.9626)\n",
            "epoch: 65 loss: tensor(0.9603)\n",
            "epoch: 66 loss: tensor(0.9590)\n",
            "epoch: 67 loss: tensor(0.9580)\n",
            "epoch: 68 loss: tensor(0.9549)\n",
            "epoch: 69 loss: tensor(0.9527)\n",
            "epoch: 70 loss: tensor(0.9546)\n",
            "epoch: 71 loss: tensor(0.9518)\n",
            "epoch: 72 loss: tensor(0.9506)\n",
            "epoch: 73 loss: tensor(0.9484)\n",
            "epoch: 74 loss: tensor(0.9485)\n",
            "epoch: 75 loss: tensor(0.9463)\n",
            "epoch: 76 loss: tensor(0.9473)\n",
            "epoch: 77 loss: tensor(0.9467)\n",
            "epoch: 78 loss: tensor(0.9506)\n",
            "epoch: 79 loss: tensor(0.9500)\n",
            "epoch: 80 loss: tensor(0.9491)\n",
            "epoch: 81 loss: tensor(0.9477)\n",
            "epoch: 82 loss: tensor(0.9476)\n",
            "epoch: 83 loss: tensor(0.9488)\n",
            "epoch: 84 loss: tensor(0.9454)\n",
            "epoch: 85 loss: tensor(0.9423)\n",
            "epoch: 86 loss: tensor(0.9433)\n",
            "epoch: 87 loss: tensor(0.9407)\n",
            "epoch: 88 loss: tensor(0.9417)\n",
            "epoch: 89 loss: tensor(0.9402)\n",
            "epoch: 90 loss: tensor(0.9416)\n",
            "epoch: 91 loss: tensor(0.9396)\n",
            "epoch: 92 loss: tensor(0.9399)\n",
            "epoch: 93 loss: tensor(0.9382)\n",
            "epoch: 94 loss: tensor(0.9393)\n",
            "epoch: 95 loss: tensor(0.9385)\n",
            "epoch: 96 loss: tensor(0.9391)\n",
            "epoch: 97 loss: tensor(0.9366)\n",
            "epoch: 98 loss: tensor(0.9373)\n",
            "epoch: 99 loss: tensor(0.9356)\n",
            "epoch: 100 loss: tensor(0.9362)\n",
            "epoch: 101 loss: tensor(0.9347)\n",
            "epoch: 102 loss: tensor(0.9363)\n",
            "epoch: 103 loss: tensor(0.9348)\n",
            "epoch: 104 loss: tensor(0.9361)\n",
            "epoch: 105 loss: tensor(0.9338)\n",
            "epoch: 106 loss: tensor(0.9349)\n",
            "epoch: 107 loss: tensor(0.9323)\n",
            "epoch: 108 loss: tensor(0.9337)\n",
            "epoch: 109 loss: tensor(0.9321)\n",
            "epoch: 110 loss: tensor(0.9331)\n",
            "epoch: 111 loss: tensor(0.9316)\n",
            "epoch: 112 loss: tensor(0.9326)\n",
            "epoch: 113 loss: tensor(0.9307)\n",
            "epoch: 114 loss: tensor(0.9312)\n",
            "epoch: 115 loss: tensor(0.9303)\n",
            "epoch: 116 loss: tensor(0.9313)\n",
            "epoch: 117 loss: tensor(0.9297)\n",
            "epoch: 118 loss: tensor(0.9305)\n",
            "epoch: 119 loss: tensor(0.9294)\n",
            "epoch: 120 loss: tensor(0.9302)\n",
            "epoch: 121 loss: tensor(0.9291)\n",
            "epoch: 122 loss: tensor(0.9293)\n",
            "epoch: 123 loss: tensor(0.9283)\n",
            "epoch: 124 loss: tensor(0.9284)\n",
            "epoch: 125 loss: tensor(0.9277)\n",
            "epoch: 126 loss: tensor(0.9280)\n",
            "epoch: 127 loss: tensor(0.9268)\n",
            "epoch: 128 loss: tensor(0.9276)\n",
            "epoch: 129 loss: tensor(0.9265)\n",
            "epoch: 130 loss: tensor(0.9273)\n",
            "epoch: 131 loss: tensor(0.9256)\n",
            "epoch: 132 loss: tensor(0.9265)\n",
            "epoch: 133 loss: tensor(0.9250)\n",
            "epoch: 134 loss: tensor(0.9259)\n",
            "epoch: 135 loss: tensor(0.9244)\n",
            "epoch: 136 loss: tensor(0.9248)\n",
            "epoch: 137 loss: tensor(0.9241)\n",
            "epoch: 138 loss: tensor(0.9244)\n",
            "epoch: 139 loss: tensor(0.9232)\n",
            "epoch: 140 loss: tensor(0.9240)\n",
            "epoch: 141 loss: tensor(0.9230)\n",
            "epoch: 142 loss: tensor(0.9237)\n",
            "epoch: 143 loss: tensor(0.9227)\n",
            "epoch: 144 loss: tensor(0.9234)\n",
            "epoch: 145 loss: tensor(0.9225)\n",
            "epoch: 146 loss: tensor(0.9226)\n",
            "epoch: 147 loss: tensor(0.9220)\n",
            "epoch: 148 loss: tensor(0.9226)\n",
            "epoch: 149 loss: tensor(0.9217)\n",
            "epoch: 150 loss: tensor(0.9244)\n",
            "epoch: 151 loss: tensor(0.9212)\n",
            "epoch: 152 loss: tensor(0.9216)\n",
            "epoch: 153 loss: tensor(0.9209)\n",
            "epoch: 154 loss: tensor(0.9215)\n",
            "epoch: 155 loss: tensor(0.9206)\n",
            "epoch: 156 loss: tensor(0.9210)\n",
            "epoch: 157 loss: tensor(0.9212)\n",
            "epoch: 158 loss: tensor(0.9203)\n",
            "epoch: 159 loss: tensor(0.9195)\n",
            "epoch: 160 loss: tensor(0.9200)\n",
            "epoch: 161 loss: tensor(0.9195)\n",
            "epoch: 162 loss: tensor(0.9200)\n",
            "epoch: 163 loss: tensor(0.9191)\n",
            "epoch: 164 loss: tensor(0.9197)\n",
            "epoch: 165 loss: tensor(0.9192)\n",
            "epoch: 166 loss: tensor(0.9195)\n",
            "epoch: 167 loss: tensor(0.9185)\n",
            "epoch: 168 loss: tensor(0.9188)\n",
            "epoch: 169 loss: tensor(0.9179)\n",
            "epoch: 170 loss: tensor(0.9186)\n",
            "epoch: 171 loss: tensor(0.9183)\n",
            "epoch: 172 loss: tensor(0.9182)\n",
            "epoch: 173 loss: tensor(0.9176)\n",
            "epoch: 174 loss: tensor(0.9178)\n",
            "epoch: 175 loss: tensor(0.9172)\n",
            "epoch: 176 loss: tensor(0.9175)\n",
            "epoch: 177 loss: tensor(0.9168)\n",
            "epoch: 178 loss: tensor(0.9171)\n",
            "epoch: 179 loss: tensor(0.9168)\n",
            "epoch: 180 loss: tensor(0.9168)\n",
            "epoch: 181 loss: tensor(0.9163)\n",
            "epoch: 182 loss: tensor(0.9166)\n",
            "epoch: 183 loss: tensor(0.9159)\n",
            "epoch: 184 loss: tensor(0.9167)\n",
            "epoch: 185 loss: tensor(0.9158)\n",
            "epoch: 186 loss: tensor(0.9164)\n",
            "epoch: 187 loss: tensor(0.9161)\n",
            "epoch: 188 loss: tensor(0.9163)\n",
            "epoch: 189 loss: tensor(0.9155)\n",
            "epoch: 190 loss: tensor(0.9161)\n",
            "epoch: 191 loss: tensor(0.9153)\n",
            "epoch: 192 loss: tensor(0.9153)\n",
            "epoch: 193 loss: tensor(0.9152)\n",
            "epoch: 194 loss: tensor(0.9156)\n",
            "epoch: 195 loss: tensor(0.9150)\n",
            "epoch: 196 loss: tensor(0.9152)\n",
            "epoch: 197 loss: tensor(0.9146)\n",
            "epoch: 198 loss: tensor(0.9150)\n",
            "epoch: 199 loss: tensor(0.9149)\n",
            "epoch: 200 loss: tensor(0.9150)\n"
          ],
          "name": "stdout"
        }
      ]
    },
    {
      "cell_type": "markdown",
      "metadata": {
        "id": "Dhsxm0OrG4wt",
        "colab_type": "text"
      },
      "source": [
        "# Testing AutoEncoder"
      ]
    },
    {
      "cell_type": "code",
      "metadata": {
        "id": "h6uDUJO6Ft5f",
        "colab_type": "code",
        "colab": {
          "base_uri": "https://localhost:8080/",
          "height": 89
        },
        "outputId": "b4822fbc-9f2d-4ef6-a0f9-12a03c7b4925"
      },
      "source": [
        "test_loss = 0\n",
        "s = 0.\n",
        "for id_user in range(nb_users):\n",
        "    input = Variable(training_set[id_user]).unsqueeze(0)\n",
        "    target = Variable(test_set[id_user])\n",
        "    if torch.sum(target.data > 0) > 0:\n",
        "        output = sae(input)\n",
        "        target.require_grad = False\n",
        "        output[(target == 0).unsqueeze(0)] = 0\n",
        "        loss = criterion(output, target)\n",
        "        mean_corrector = nb_movies/float(torch.sum(target.data > 0) + 1e-10)\n",
        "        test_loss += np.sqrt(loss.data*mean_corrector)\n",
        "        s += 1.\n",
        "print('test loss: '+str(test_loss/s))"
      ],
      "execution_count": 16,
      "outputs": [
        {
          "output_type": "stream",
          "text": [
            "test loss: tensor(0.9546)\n"
          ],
          "name": "stdout"
        },
        {
          "output_type": "stream",
          "text": [
            "/usr/local/lib/python3.6/dist-packages/torch/nn/modules/loss.py:432: UserWarning: Using a target size (torch.Size([1682])) that is different to the input size (torch.Size([1, 1682])). This will likely lead to incorrect results due to broadcasting. Please ensure they have the same size.\n",
            "  return F.mse_loss(input, target, reduction=self.reduction)\n"
          ],
          "name": "stderr"
        }
      ]
    }
  ]
}