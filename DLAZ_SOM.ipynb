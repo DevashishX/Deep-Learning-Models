{
  "nbformat": 4,
  "nbformat_minor": 0,
  "metadata": {
    "colab": {
      "name": "DLAZ_SOM.ipynb",
      "provenance": [],
      "authorship_tag": "ABX9TyPHkqkguyxD6XbBHOTG3eRq",
      "include_colab_link": true
    },
    "kernelspec": {
      "name": "python3",
      "display_name": "Python 3"
    },
    "accelerator": "GPU"
  },
  "cells": [
    {
      "cell_type": "markdown",
      "metadata": {
        "id": "view-in-github",
        "colab_type": "text"
      },
      "source": [
        "<a href=\"https://colab.research.google.com/github/DevashishX/Deep-Learning-Models/blob/master/DLAZ_SOM.ipynb\" target=\"_parent\"><img src=\"https://colab.research.google.com/assets/colab-badge.svg\" alt=\"Open In Colab\"/></a>"
      ]
    },
    {
      "cell_type": "markdown",
      "metadata": {
        "id": "m0D7NsDKkILT",
        "colab_type": "text"
      },
      "source": [
        "#Self Organizing Maps from Deep Learning A-Z on Udemy"
      ]
    },
    {
      "cell_type": "markdown",
      "metadata": {
        "id": "PZG0Y0iWkP2k",
        "colab_type": "text"
      },
      "source": [
        "We do unsupervised clustering using self organized maps in deep learning. SOM is the easiest unsupervised deep learning model used for clustering. We use the SOM implemented in minisom library -  which is downloaded along with dataset\n",
        "\n",
        "The dataset consists of credit card transactions data, our goal is to cluster tha data in such a way that the fraudulent transactions can be identified in seperate clusters."
      ]
    },
    {
      "cell_type": "markdown",
      "metadata": {
        "id": "ZR67ZVJgj3mn",
        "colab_type": "text"
      },
      "source": [
        "# Getting the Dataset"
      ]
    },
    {
      "cell_type": "code",
      "metadata": {
        "id": "bfgdvhm4kwhE",
        "colab_type": "code",
        "colab": {
          "base_uri": "https://localhost:8080/",
          "height": 208
        },
        "outputId": "15748774-19b7-4849-fae8-625f54382e9a"
      },
      "source": [
        "!wget https://sds-platform-private.s3-us-east-2.amazonaws.com/uploads/P16-Self-Organizing-Maps.zip\n",
        "!unzip -q P16-Self-Organizing-Maps.zip\n",
        "!mv Self_Organizing_Maps/* . "
      ],
      "execution_count": 4,
      "outputs": [
        {
          "output_type": "stream",
          "text": [
            "--2020-05-09 04:03:56--  https://sds-platform-private.s3-us-east-2.amazonaws.com/uploads/P16-Self-Organizing-Maps.zip\n",
            "Resolving sds-platform-private.s3-us-east-2.amazonaws.com (sds-platform-private.s3-us-east-2.amazonaws.com)... 52.219.96.40\n",
            "Connecting to sds-platform-private.s3-us-east-2.amazonaws.com (sds-platform-private.s3-us-east-2.amazonaws.com)|52.219.96.40|:443... connected.\n",
            "HTTP request sent, awaiting response... 200 OK\n",
            "Length: 17004 (17K) [application/zip]\n",
            "Saving to: ‘P16-Self-Organizing-Maps.zip’\n",
            "\n",
            "\r          P16-Self-   0%[                    ]       0  --.-KB/s               \rP16-Self-Organizing 100%[===================>]  16.61K  --.-KB/s    in 0s      \n",
            "\n",
            "2020-05-09 04:03:56 (33.5 MB/s) - ‘P16-Self-Organizing-Maps.zip’ saved [17004/17004]\n",
            "\n"
          ],
          "name": "stdout"
        }
      ]
    },
    {
      "cell_type": "markdown",
      "metadata": {
        "id": "TVfI1cHwkwr8",
        "colab_type": "text"
      },
      "source": [
        "# Data Preprocessing"
      ]
    },
    {
      "cell_type": "code",
      "metadata": {
        "id": "ysckjHQckwvR",
        "colab_type": "code",
        "colab": {}
      },
      "source": [
        "import numpy as np\n",
        "import matplotlib.pyplot as plt\n",
        "import pandas as pd"
      ],
      "execution_count": 0,
      "outputs": []
    },
    {
      "cell_type": "code",
      "metadata": {
        "id": "1DhibvhXkwye",
        "colab_type": "code",
        "colab": {}
      },
      "source": [
        "dataset = pd.read_csv('Credit_Card_Applications.csv')\n",
        "X = dataset.iloc[:, :-1].values\n",
        "y = dataset.iloc[:, -1].values"
      ],
      "execution_count": 0,
      "outputs": []
    },
    {
      "cell_type": "code",
      "metadata": {
        "id": "WQWcgHqCkw12",
        "colab_type": "code",
        "colab": {}
      },
      "source": [
        "from sklearn.preprocessing import MinMaxScaler\n",
        "sc = MinMaxScaler(feature_range = (0, 1))\n",
        "X = sc.fit_transform(X)"
      ],
      "execution_count": 0,
      "outputs": []
    },
    {
      "cell_type": "markdown",
      "metadata": {
        "id": "p9cN_cAplTFa",
        "colab_type": "text"
      },
      "source": [
        "# Training "
      ]
    },
    {
      "cell_type": "code",
      "metadata": {
        "id": "HVW9n4oSlS5F",
        "colab_type": "code",
        "colab": {}
      },
      "source": [
        "from minisom import MiniSom"
      ],
      "execution_count": 0,
      "outputs": []
    },
    {
      "cell_type": "code",
      "metadata": {
        "id": "K4KIeRcrlS3a",
        "colab_type": "code",
        "colab": {}
      },
      "source": [
        "som = MiniSom(x = 10, y = 10, input_len = 15, sigma = 1.0, learning_rate = 0.5)\n",
        "som.random_weights_init(X)"
      ],
      "execution_count": 0,
      "outputs": []
    },
    {
      "cell_type": "code",
      "metadata": {
        "id": "vGcZDaKelS0o",
        "colab_type": "code",
        "colab": {}
      },
      "source": [
        "som.train_random(data = X, num_iteration = 100)"
      ],
      "execution_count": 0,
      "outputs": []
    },
    {
      "cell_type": "markdown",
      "metadata": {
        "id": "mAEP6W6slSxe",
        "colab_type": "text"
      },
      "source": [
        "# Visualization"
      ]
    },
    {
      "cell_type": "code",
      "metadata": {
        "id": "Lt7ujs-ClSuy",
        "colab_type": "code",
        "colab": {}
      },
      "source": [
        "from pylab import bone, pcolor, colorbar, plot, show"
      ],
      "execution_count": 0,
      "outputs": []
    },
    {
      "cell_type": "code",
      "metadata": {
        "id": "9EgvJrgCkw5v",
        "colab_type": "code",
        "colab": {
          "base_uri": "https://localhost:8080/",
          "height": 269
        },
        "outputId": "8b1988e3-22ba-468f-8076-185e9ad7fd8a"
      },
      "source": [
        "bone()\n",
        "pcolor(som.distance_map().T)\n",
        "colorbar()\n",
        "markers = ['o', 's']\n",
        "colors = ['r', 'g']\n",
        "for i, x in enumerate(X):\n",
        "    w = som.winner(x)\n",
        "    plot(w[0] + 0.5,\n",
        "         w[1] + 0.5,\n",
        "         markers[y[i]],\n",
        "         markeredgecolor = colors[y[i]],\n",
        "         markerfacecolor = 'None',\n",
        "         markersize = 10,\n",
        "         markeredgewidth = 2)\n",
        "show()"
      ],
      "execution_count": 12,
      "outputs": [
        {
          "output_type": "display_data",
          "data": {
            "image/png": "[encoded data removed]",
            "text/plain": [
              "<Figure size 432x288 with 2 Axes>"
            ]
          },
          "metadata": {
            "tags": [],
            "needs_background": "light"
          }
        }
      ]
    },
    {
      "cell_type": "markdown",
      "metadata": {
        "id": "AkiYTSJglxUC",
        "colab_type": "text"
      },
      "source": [
        "#Finding the fraud in the credit card dataset"
      ]
    },
    {
      "cell_type": "code",
      "metadata": {
        "id": "6D_4vJoOlxPC",
        "colab_type": "code",
        "colab": {
          "base_uri": "https://localhost:8080/",
          "height": 86
        },
        "outputId": "85d8bbc8-9988-46d3-9af8-08bcb5316501"
      },
      "source": [
        "mappings = som.win_map(X)\n",
        "frauds = np.asarray(mappings[(6,7)])\n",
        "# # frauds = np.concatenate((mappings[(7,6)]), axis = 0).reshape(-1,1)\n",
        "frauds = sc.inverse_transform(frauds)\n",
        "frauds"
      ],
      "execution_count": 36,
      "outputs": [
        {
          "output_type": "execute_result",
          "data": {
            "text/plain": [
              "array([[1.5735221e+07, 1.0000000e+00, 2.2920000e+01, 1.7000000e-01,\n",
              "        2.0000000e+00, 7.0000000e+00, 4.0000000e+00, 8.5000000e-02,\n",
              "        0.0000000e+00, 0.0000000e+00, 0.0000000e+00, 0.0000000e+00,\n",
              "        1.0000000e+00, 0.0000000e+00, 1.0000000e+00]])"
            ]
          },
          "metadata": {
            "tags": []
          },
          "execution_count": 36
        }
      ]
    },
    {
      "cell_type": "code",
      "metadata": {
        "id": "XRtN7IbFlxKj",
        "colab_type": "code",
        "colab": {
          "base_uri": "https://localhost:8080/",
          "height": 69
        },
        "outputId": "8ad356d4-d280-47b2-f96a-75a23e14c27f"
      },
      "source": [
        "print(frauds)"
      ],
      "execution_count": 37,
      "outputs": [
        {
          "output_type": "stream",
          "text": [
            "[[1.5735221e+07 1.0000000e+00 2.2920000e+01 1.7000000e-01 2.0000000e+00\n",
            "  7.0000000e+00 4.0000000e+00 8.5000000e-02 0.0000000e+00 0.0000000e+00\n",
            "  0.0000000e+00 0.0000000e+00 1.0000000e+00 0.0000000e+00 1.0000000e+00]]\n"
          ],
          "name": "stdout"
        }
      ]
    },
    {
      "cell_type": "code",
      "metadata": {
        "id": "cnkJWN2WlxG8",
        "colab_type": "code",
        "colab": {}
      },
      "source": [
        ""
      ],
      "execution_count": 0,
      "outputs": []
    },
    {
      "cell_type": "code",
      "metadata": {
        "id": "pJbklb1ZlxBa",
        "colab_type": "code",
        "colab": {}
      },
      "source": [
        ""
      ],
      "execution_count": 0,
      "outputs": []
    },
    {
      "cell_type": "code",
      "metadata": {
        "id": "_o608Nlkkw7U",
        "colab_type": "code",
        "colab": {}
      },
      "source": [
        ""
      ],
      "execution_count": 0,
      "outputs": []
    }
  ]
}